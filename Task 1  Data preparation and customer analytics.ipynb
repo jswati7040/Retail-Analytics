{
 "cells": [
  {
   "cell_type": "code",
   "execution_count": 2,
   "id": "c553befa",
   "metadata": {
    "ExecuteTime": {
     "end_time": "2024-03-16T13:10:46.327906Z",
     "start_time": "2024-03-16T13:10:41.566672Z"
    }
   },
   "outputs": [],
   "source": [
    "import numpy as np\n",
    "import pandas as pd \n",
    "import matplotlib.pyplot as plt\n",
    "import seaborn as sns\n",
    "%matplotlib inline"
   ]
  },
  {
   "cell_type": "markdown",
   "id": "25bddf64",
   "metadata": {},
   "source": [
    "# Load dataset"
   ]
  },
  {
   "cell_type": "code",
   "execution_count": 4,
   "id": "678e1b46",
   "metadata": {
    "ExecuteTime": {
     "end_time": "2024-03-16T13:12:49.976989Z",
     "start_time": "2024-03-16T13:12:23.817815Z"
    }
   },
   "outputs": [],
   "source": [
    "\n",
    "Transaction_data = pd.read_excel(\"C:/Users/jswat/OneDrive/Desktop/SWATI/Quantium virtual Internship/QVI_transaction_data.xlsx\")"
   ]
  },
  {
   "cell_type": "code",
   "execution_count": 6,
   "id": "a2352a93",
   "metadata": {
    "ExecuteTime": {
     "end_time": "2024-03-16T13:13:30.242165Z",
     "start_time": "2024-03-16T13:13:30.159082Z"
    }
   },
   "outputs": [],
   "source": [
    "Customer_data = pd.read_csv(\"C:/Users/jswat/OneDrive/Desktop/SWATI/Quantium virtual Internship/QVI_purchase_behaviour.csv\")"
   ]
  },
  {
   "cell_type": "markdown",
   "id": "561219bc",
   "metadata": {},
   "source": [
    "# Explore the data"
   ]
  },
  {
   "cell_type": "code",
   "execution_count": 7,
   "id": "e54e69fb",
   "metadata": {
    "ExecuteTime": {
     "end_time": "2024-03-16T13:13:30.365078Z",
     "start_time": "2024-03-16T13:13:30.248117Z"
    }
   },
   "outputs": [
    {
     "data": {
      "text/html": [
       "<div>\n",
       "<style scoped>\n",
       "    .dataframe tbody tr th:only-of-type {\n",
       "        vertical-align: middle;\n",
       "    }\n",
       "\n",
       "    .dataframe tbody tr th {\n",
       "        vertical-align: top;\n",
       "    }\n",
       "\n",
       "    .dataframe thead th {\n",
       "        text-align: right;\n",
       "    }\n",
       "</style>\n",
       "<table border=\"1\" class=\"dataframe\">\n",
       "  <thead>\n",
       "    <tr style=\"text-align: right;\">\n",
       "      <th></th>\n",
       "      <th>DATE</th>\n",
       "      <th>STORE_NBR</th>\n",
       "      <th>LYLTY_CARD_NBR</th>\n",
       "      <th>TXN_ID</th>\n",
       "      <th>PROD_NBR</th>\n",
       "      <th>PROD_NAME</th>\n",
       "      <th>PROD_QTY</th>\n",
       "      <th>TOT_SALES</th>\n",
       "    </tr>\n",
       "  </thead>\n",
       "  <tbody>\n",
       "    <tr>\n",
       "      <th>0</th>\n",
       "      <td>43390</td>\n",
       "      <td>1</td>\n",
       "      <td>1000</td>\n",
       "      <td>1</td>\n",
       "      <td>5</td>\n",
       "      <td>Natural Chip        Compny SeaSalt175g</td>\n",
       "      <td>2</td>\n",
       "      <td>6.0</td>\n",
       "    </tr>\n",
       "    <tr>\n",
       "      <th>1</th>\n",
       "      <td>43599</td>\n",
       "      <td>1</td>\n",
       "      <td>1307</td>\n",
       "      <td>348</td>\n",
       "      <td>66</td>\n",
       "      <td>CCs Nacho Cheese    175g</td>\n",
       "      <td>3</td>\n",
       "      <td>6.3</td>\n",
       "    </tr>\n",
       "    <tr>\n",
       "      <th>2</th>\n",
       "      <td>43605</td>\n",
       "      <td>1</td>\n",
       "      <td>1343</td>\n",
       "      <td>383</td>\n",
       "      <td>61</td>\n",
       "      <td>Smiths Crinkle Cut  Chips Chicken 170g</td>\n",
       "      <td>2</td>\n",
       "      <td>2.9</td>\n",
       "    </tr>\n",
       "    <tr>\n",
       "      <th>3</th>\n",
       "      <td>43329</td>\n",
       "      <td>2</td>\n",
       "      <td>2373</td>\n",
       "      <td>974</td>\n",
       "      <td>69</td>\n",
       "      <td>Smiths Chip Thinly  S/Cream&amp;Onion 175g</td>\n",
       "      <td>5</td>\n",
       "      <td>15.0</td>\n",
       "    </tr>\n",
       "    <tr>\n",
       "      <th>4</th>\n",
       "      <td>43330</td>\n",
       "      <td>2</td>\n",
       "      <td>2426</td>\n",
       "      <td>1038</td>\n",
       "      <td>108</td>\n",
       "      <td>Kettle Tortilla ChpsHny&amp;Jlpno Chili 150g</td>\n",
       "      <td>3</td>\n",
       "      <td>13.8</td>\n",
       "    </tr>\n",
       "  </tbody>\n",
       "</table>\n",
       "</div>"
      ],
      "text/plain": [
       "    DATE  STORE_NBR  LYLTY_CARD_NBR  TXN_ID  PROD_NBR  \\\n",
       "0  43390          1            1000       1         5   \n",
       "1  43599          1            1307     348        66   \n",
       "2  43605          1            1343     383        61   \n",
       "3  43329          2            2373     974        69   \n",
       "4  43330          2            2426    1038       108   \n",
       "\n",
       "                                  PROD_NAME  PROD_QTY  TOT_SALES  \n",
       "0    Natural Chip        Compny SeaSalt175g         2        6.0  \n",
       "1                  CCs Nacho Cheese    175g         3        6.3  \n",
       "2    Smiths Crinkle Cut  Chips Chicken 170g         2        2.9  \n",
       "3    Smiths Chip Thinly  S/Cream&Onion 175g         5       15.0  \n",
       "4  Kettle Tortilla ChpsHny&Jlpno Chili 150g         3       13.8  "
      ]
     },
     "execution_count": 7,
     "metadata": {},
     "output_type": "execute_result"
    }
   ],
   "source": [
    "\n",
    "Transaction_data.head()"
   ]
  },
  {
   "cell_type": "code",
   "execution_count": 8,
   "id": "77a450f6",
   "metadata": {
    "ExecuteTime": {
     "end_time": "2024-03-16T13:13:30.381075Z",
     "start_time": "2024-03-16T13:13:30.367075Z"
    }
   },
   "outputs": [
    {
     "data": {
      "text/html": [
       "<div>\n",
       "<style scoped>\n",
       "    .dataframe tbody tr th:only-of-type {\n",
       "        vertical-align: middle;\n",
       "    }\n",
       "\n",
       "    .dataframe tbody tr th {\n",
       "        vertical-align: top;\n",
       "    }\n",
       "\n",
       "    .dataframe thead th {\n",
       "        text-align: right;\n",
       "    }\n",
       "</style>\n",
       "<table border=\"1\" class=\"dataframe\">\n",
       "  <thead>\n",
       "    <tr style=\"text-align: right;\">\n",
       "      <th></th>\n",
       "      <th>LYLTY_CARD_NBR</th>\n",
       "      <th>LIFESTAGE</th>\n",
       "      <th>PREMIUM_CUSTOMER</th>\n",
       "    </tr>\n",
       "  </thead>\n",
       "  <tbody>\n",
       "    <tr>\n",
       "      <th>0</th>\n",
       "      <td>1000</td>\n",
       "      <td>YOUNG SINGLES/COUPLES</td>\n",
       "      <td>Premium</td>\n",
       "    </tr>\n",
       "    <tr>\n",
       "      <th>1</th>\n",
       "      <td>1002</td>\n",
       "      <td>YOUNG SINGLES/COUPLES</td>\n",
       "      <td>Mainstream</td>\n",
       "    </tr>\n",
       "    <tr>\n",
       "      <th>2</th>\n",
       "      <td>1003</td>\n",
       "      <td>YOUNG FAMILIES</td>\n",
       "      <td>Budget</td>\n",
       "    </tr>\n",
       "    <tr>\n",
       "      <th>3</th>\n",
       "      <td>1004</td>\n",
       "      <td>OLDER SINGLES/COUPLES</td>\n",
       "      <td>Mainstream</td>\n",
       "    </tr>\n",
       "    <tr>\n",
       "      <th>4</th>\n",
       "      <td>1005</td>\n",
       "      <td>MIDAGE SINGLES/COUPLES</td>\n",
       "      <td>Mainstream</td>\n",
       "    </tr>\n",
       "  </tbody>\n",
       "</table>\n",
       "</div>"
      ],
      "text/plain": [
       "   LYLTY_CARD_NBR               LIFESTAGE PREMIUM_CUSTOMER\n",
       "0            1000   YOUNG SINGLES/COUPLES          Premium\n",
       "1            1002   YOUNG SINGLES/COUPLES       Mainstream\n",
       "2            1003          YOUNG FAMILIES           Budget\n",
       "3            1004   OLDER SINGLES/COUPLES       Mainstream\n",
       "4            1005  MIDAGE SINGLES/COUPLES       Mainstream"
      ]
     },
     "execution_count": 8,
     "metadata": {},
     "output_type": "execute_result"
    }
   ],
   "source": [
    "Customer_data.head()"
   ]
  },
  {
   "cell_type": "code",
   "execution_count": 9,
   "id": "0f3aa725",
   "metadata": {
    "ExecuteTime": {
     "end_time": "2024-03-16T13:13:30.426400Z",
     "start_time": "2024-03-16T13:13:30.385082Z"
    }
   },
   "outputs": [],
   "source": [
    "# Covert Date column into date format\n",
    "Transaction_data['DATE'] = pd.to_datetime(Transaction_data['DATE'], unit='D', origin='1899-12-30')"
   ]
  },
  {
   "cell_type": "code",
   "execution_count": 10,
   "id": "0e664da4",
   "metadata": {
    "ExecuteTime": {
     "end_time": "2024-03-16T13:13:30.521684Z",
     "start_time": "2024-03-16T13:13:30.429499Z"
    }
   },
   "outputs": [],
   "source": [
    "# Merging two tables\n",
    "Store_Data=Transaction_data.merge(Customer_data,how=\"left\",on=\"LYLTY_CARD_NBR\")"
   ]
  },
  {
   "cell_type": "code",
   "execution_count": 11,
   "id": "483a122d",
   "metadata": {
    "ExecuteTime": {
     "end_time": "2024-03-16T13:13:30.551984Z",
     "start_time": "2024-03-16T13:13:30.523716Z"
    }
   },
   "outputs": [
    {
     "data": {
      "text/html": [
       "<div>\n",
       "<style scoped>\n",
       "    .dataframe tbody tr th:only-of-type {\n",
       "        vertical-align: middle;\n",
       "    }\n",
       "\n",
       "    .dataframe tbody tr th {\n",
       "        vertical-align: top;\n",
       "    }\n",
       "\n",
       "    .dataframe thead th {\n",
       "        text-align: right;\n",
       "    }\n",
       "</style>\n",
       "<table border=\"1\" class=\"dataframe\">\n",
       "  <thead>\n",
       "    <tr style=\"text-align: right;\">\n",
       "      <th></th>\n",
       "      <th>DATE</th>\n",
       "      <th>STORE_NBR</th>\n",
       "      <th>LYLTY_CARD_NBR</th>\n",
       "      <th>TXN_ID</th>\n",
       "      <th>PROD_NBR</th>\n",
       "      <th>PROD_NAME</th>\n",
       "      <th>PROD_QTY</th>\n",
       "      <th>TOT_SALES</th>\n",
       "      <th>LIFESTAGE</th>\n",
       "      <th>PREMIUM_CUSTOMER</th>\n",
       "    </tr>\n",
       "  </thead>\n",
       "  <tbody>\n",
       "    <tr>\n",
       "      <th>0</th>\n",
       "      <td>2018-10-17</td>\n",
       "      <td>1</td>\n",
       "      <td>1000</td>\n",
       "      <td>1</td>\n",
       "      <td>5</td>\n",
       "      <td>Natural Chip        Compny SeaSalt175g</td>\n",
       "      <td>2</td>\n",
       "      <td>6.0</td>\n",
       "      <td>YOUNG SINGLES/COUPLES</td>\n",
       "      <td>Premium</td>\n",
       "    </tr>\n",
       "    <tr>\n",
       "      <th>1</th>\n",
       "      <td>2019-05-14</td>\n",
       "      <td>1</td>\n",
       "      <td>1307</td>\n",
       "      <td>348</td>\n",
       "      <td>66</td>\n",
       "      <td>CCs Nacho Cheese    175g</td>\n",
       "      <td>3</td>\n",
       "      <td>6.3</td>\n",
       "      <td>MIDAGE SINGLES/COUPLES</td>\n",
       "      <td>Budget</td>\n",
       "    </tr>\n",
       "    <tr>\n",
       "      <th>2</th>\n",
       "      <td>2019-05-20</td>\n",
       "      <td>1</td>\n",
       "      <td>1343</td>\n",
       "      <td>383</td>\n",
       "      <td>61</td>\n",
       "      <td>Smiths Crinkle Cut  Chips Chicken 170g</td>\n",
       "      <td>2</td>\n",
       "      <td>2.9</td>\n",
       "      <td>MIDAGE SINGLES/COUPLES</td>\n",
       "      <td>Budget</td>\n",
       "    </tr>\n",
       "    <tr>\n",
       "      <th>3</th>\n",
       "      <td>2018-08-17</td>\n",
       "      <td>2</td>\n",
       "      <td>2373</td>\n",
       "      <td>974</td>\n",
       "      <td>69</td>\n",
       "      <td>Smiths Chip Thinly  S/Cream&amp;Onion 175g</td>\n",
       "      <td>5</td>\n",
       "      <td>15.0</td>\n",
       "      <td>MIDAGE SINGLES/COUPLES</td>\n",
       "      <td>Budget</td>\n",
       "    </tr>\n",
       "    <tr>\n",
       "      <th>4</th>\n",
       "      <td>2018-08-18</td>\n",
       "      <td>2</td>\n",
       "      <td>2426</td>\n",
       "      <td>1038</td>\n",
       "      <td>108</td>\n",
       "      <td>Kettle Tortilla ChpsHny&amp;Jlpno Chili 150g</td>\n",
       "      <td>3</td>\n",
       "      <td>13.8</td>\n",
       "      <td>MIDAGE SINGLES/COUPLES</td>\n",
       "      <td>Budget</td>\n",
       "    </tr>\n",
       "  </tbody>\n",
       "</table>\n",
       "</div>"
      ],
      "text/plain": [
       "        DATE  STORE_NBR  LYLTY_CARD_NBR  TXN_ID  PROD_NBR  \\\n",
       "0 2018-10-17          1            1000       1         5   \n",
       "1 2019-05-14          1            1307     348        66   \n",
       "2 2019-05-20          1            1343     383        61   \n",
       "3 2018-08-17          2            2373     974        69   \n",
       "4 2018-08-18          2            2426    1038       108   \n",
       "\n",
       "                                  PROD_NAME  PROD_QTY  TOT_SALES  \\\n",
       "0    Natural Chip        Compny SeaSalt175g         2        6.0   \n",
       "1                  CCs Nacho Cheese    175g         3        6.3   \n",
       "2    Smiths Crinkle Cut  Chips Chicken 170g         2        2.9   \n",
       "3    Smiths Chip Thinly  S/Cream&Onion 175g         5       15.0   \n",
       "4  Kettle Tortilla ChpsHny&Jlpno Chili 150g         3       13.8   \n",
       "\n",
       "                LIFESTAGE PREMIUM_CUSTOMER  \n",
       "0   YOUNG SINGLES/COUPLES          Premium  \n",
       "1  MIDAGE SINGLES/COUPLES           Budget  \n",
       "2  MIDAGE SINGLES/COUPLES           Budget  \n",
       "3  MIDAGE SINGLES/COUPLES           Budget  \n",
       "4  MIDAGE SINGLES/COUPLES           Budget  "
      ]
     },
     "execution_count": 11,
     "metadata": {},
     "output_type": "execute_result"
    }
   ],
   "source": [
    "Store_Data.head()"
   ]
  },
  {
   "cell_type": "code",
   "execution_count": 12,
   "id": "753c4ced",
   "metadata": {
    "ExecuteTime": {
     "end_time": "2024-03-16T13:13:30.709906Z",
     "start_time": "2024-03-16T13:13:30.555857Z"
    }
   },
   "outputs": [
    {
     "name": "stdout",
     "output_type": "stream",
     "text": [
      "<class 'pandas.core.frame.DataFrame'>\n",
      "Int64Index: 264836 entries, 0 to 264835\n",
      "Data columns (total 10 columns):\n",
      " #   Column            Non-Null Count   Dtype         \n",
      "---  ------            --------------   -----         \n",
      " 0   DATE              264836 non-null  datetime64[ns]\n",
      " 1   STORE_NBR         264836 non-null  int64         \n",
      " 2   LYLTY_CARD_NBR    264836 non-null  int64         \n",
      " 3   TXN_ID            264836 non-null  int64         \n",
      " 4   PROD_NBR          264836 non-null  int64         \n",
      " 5   PROD_NAME         264836 non-null  object        \n",
      " 6   PROD_QTY          264836 non-null  int64         \n",
      " 7   TOT_SALES         264836 non-null  float64       \n",
      " 8   LIFESTAGE         264836 non-null  object        \n",
      " 9   PREMIUM_CUSTOMER  264836 non-null  object        \n",
      "dtypes: datetime64[ns](1), float64(1), int64(5), object(3)\n",
      "memory usage: 22.2+ MB\n"
     ]
    }
   ],
   "source": [
    "Store_Data.info()"
   ]
  },
  {
   "cell_type": "code",
   "execution_count": 13,
   "id": "3a2bf432",
   "metadata": {
    "ExecuteTime": {
     "end_time": "2024-03-16T13:13:30.724995Z",
     "start_time": "2024-03-16T13:13:30.714909Z"
    }
   },
   "outputs": [
    {
     "data": {
      "text/plain": [
       "(264836, 10)"
      ]
     },
     "execution_count": 13,
     "metadata": {},
     "output_type": "execute_result"
    }
   ],
   "source": [
    "Store_Data.shape"
   ]
  },
  {
   "cell_type": "code",
   "execution_count": 14,
   "id": "f79f9d29",
   "metadata": {
    "ExecuteTime": {
     "end_time": "2024-03-16T13:13:30.834904Z",
     "start_time": "2024-03-16T13:13:30.728902Z"
    }
   },
   "outputs": [
    {
     "data": {
      "text/html": [
       "<div>\n",
       "<style scoped>\n",
       "    .dataframe tbody tr th:only-of-type {\n",
       "        vertical-align: middle;\n",
       "    }\n",
       "\n",
       "    .dataframe tbody tr th {\n",
       "        vertical-align: top;\n",
       "    }\n",
       "\n",
       "    .dataframe thead th {\n",
       "        text-align: right;\n",
       "    }\n",
       "</style>\n",
       "<table border=\"1\" class=\"dataframe\">\n",
       "  <thead>\n",
       "    <tr style=\"text-align: right;\">\n",
       "      <th></th>\n",
       "      <th>STORE_NBR</th>\n",
       "      <th>LYLTY_CARD_NBR</th>\n",
       "      <th>TXN_ID</th>\n",
       "      <th>PROD_NBR</th>\n",
       "      <th>PROD_QTY</th>\n",
       "      <th>TOT_SALES</th>\n",
       "    </tr>\n",
       "  </thead>\n",
       "  <tbody>\n",
       "    <tr>\n",
       "      <th>count</th>\n",
       "      <td>264836.00000</td>\n",
       "      <td>2.648360e+05</td>\n",
       "      <td>2.648360e+05</td>\n",
       "      <td>264836.000000</td>\n",
       "      <td>264836.000000</td>\n",
       "      <td>264836.000000</td>\n",
       "    </tr>\n",
       "    <tr>\n",
       "      <th>mean</th>\n",
       "      <td>135.08011</td>\n",
       "      <td>1.355495e+05</td>\n",
       "      <td>1.351583e+05</td>\n",
       "      <td>56.583157</td>\n",
       "      <td>1.907309</td>\n",
       "      <td>7.304200</td>\n",
       "    </tr>\n",
       "    <tr>\n",
       "      <th>std</th>\n",
       "      <td>76.78418</td>\n",
       "      <td>8.057998e+04</td>\n",
       "      <td>7.813303e+04</td>\n",
       "      <td>32.826638</td>\n",
       "      <td>0.643654</td>\n",
       "      <td>3.083226</td>\n",
       "    </tr>\n",
       "    <tr>\n",
       "      <th>min</th>\n",
       "      <td>1.00000</td>\n",
       "      <td>1.000000e+03</td>\n",
       "      <td>1.000000e+00</td>\n",
       "      <td>1.000000</td>\n",
       "      <td>1.000000</td>\n",
       "      <td>1.500000</td>\n",
       "    </tr>\n",
       "    <tr>\n",
       "      <th>25%</th>\n",
       "      <td>70.00000</td>\n",
       "      <td>7.002100e+04</td>\n",
       "      <td>6.760150e+04</td>\n",
       "      <td>28.000000</td>\n",
       "      <td>2.000000</td>\n",
       "      <td>5.400000</td>\n",
       "    </tr>\n",
       "    <tr>\n",
       "      <th>50%</th>\n",
       "      <td>130.00000</td>\n",
       "      <td>1.303575e+05</td>\n",
       "      <td>1.351375e+05</td>\n",
       "      <td>56.000000</td>\n",
       "      <td>2.000000</td>\n",
       "      <td>7.400000</td>\n",
       "    </tr>\n",
       "    <tr>\n",
       "      <th>75%</th>\n",
       "      <td>203.00000</td>\n",
       "      <td>2.030942e+05</td>\n",
       "      <td>2.027012e+05</td>\n",
       "      <td>85.000000</td>\n",
       "      <td>2.000000</td>\n",
       "      <td>9.200000</td>\n",
       "    </tr>\n",
       "    <tr>\n",
       "      <th>max</th>\n",
       "      <td>272.00000</td>\n",
       "      <td>2.373711e+06</td>\n",
       "      <td>2.415841e+06</td>\n",
       "      <td>114.000000</td>\n",
       "      <td>200.000000</td>\n",
       "      <td>650.000000</td>\n",
       "    </tr>\n",
       "  </tbody>\n",
       "</table>\n",
       "</div>"
      ],
      "text/plain": [
       "          STORE_NBR  LYLTY_CARD_NBR        TXN_ID       PROD_NBR  \\\n",
       "count  264836.00000    2.648360e+05  2.648360e+05  264836.000000   \n",
       "mean      135.08011    1.355495e+05  1.351583e+05      56.583157   \n",
       "std        76.78418    8.057998e+04  7.813303e+04      32.826638   \n",
       "min         1.00000    1.000000e+03  1.000000e+00       1.000000   \n",
       "25%        70.00000    7.002100e+04  6.760150e+04      28.000000   \n",
       "50%       130.00000    1.303575e+05  1.351375e+05      56.000000   \n",
       "75%       203.00000    2.030942e+05  2.027012e+05      85.000000   \n",
       "max       272.00000    2.373711e+06  2.415841e+06     114.000000   \n",
       "\n",
       "            PROD_QTY      TOT_SALES  \n",
       "count  264836.000000  264836.000000  \n",
       "mean        1.907309       7.304200  \n",
       "std         0.643654       3.083226  \n",
       "min         1.000000       1.500000  \n",
       "25%         2.000000       5.400000  \n",
       "50%         2.000000       7.400000  \n",
       "75%         2.000000       9.200000  \n",
       "max       200.000000     650.000000  "
      ]
     },
     "execution_count": 14,
     "metadata": {},
     "output_type": "execute_result"
    }
   ],
   "source": [
    "Store_Data.describe()"
   ]
  },
  {
   "cell_type": "code",
   "execution_count": 15,
   "id": "6d72330a",
   "metadata": {
    "ExecuteTime": {
     "end_time": "2024-03-16T13:13:30.962128Z",
     "start_time": "2024-03-16T13:13:30.839903Z"
    }
   },
   "outputs": [
    {
     "data": {
      "text/plain": [
       "DATE                0\n",
       "STORE_NBR           0\n",
       "LYLTY_CARD_NBR      0\n",
       "TXN_ID              0\n",
       "PROD_NBR            0\n",
       "PROD_NAME           0\n",
       "PROD_QTY            0\n",
       "TOT_SALES           0\n",
       "LIFESTAGE           0\n",
       "PREMIUM_CUSTOMER    0\n",
       "dtype: int64"
      ]
     },
     "execution_count": 15,
     "metadata": {},
     "output_type": "execute_result"
    }
   ],
   "source": [
    "#Check for null values\n",
    "Store_Data.isna().sum()"
   ]
  },
  {
   "cell_type": "code",
   "execution_count": 16,
   "id": "b705929d",
   "metadata": {
    "ExecuteTime": {
     "end_time": "2024-03-16T13:13:30.978039Z",
     "start_time": "2024-03-16T13:13:30.964038Z"
    }
   },
   "outputs": [
    {
     "data": {
      "text/plain": [
       "DATE                datetime64[ns]\n",
       "STORE_NBR                    int64\n",
       "LYLTY_CARD_NBR               int64\n",
       "TXN_ID                       int64\n",
       "PROD_NBR                     int64\n",
       "PROD_NAME                   object\n",
       "PROD_QTY                     int64\n",
       "TOT_SALES                  float64\n",
       "LIFESTAGE                   object\n",
       "PREMIUM_CUSTOMER            object\n",
       "dtype: object"
      ]
     },
     "execution_count": 16,
     "metadata": {},
     "output_type": "execute_result"
    }
   ],
   "source": [
    "#Checking datatypes\n",
    "Store_Data.dtypes"
   ]
  },
  {
   "cell_type": "code",
   "execution_count": 17,
   "id": "1ec7e338",
   "metadata": {
    "ExecuteTime": {
     "end_time": "2024-03-16T13:13:31.197899Z",
     "start_time": "2024-03-16T13:13:30.982038Z"
    }
   },
   "outputs": [
    {
     "data": {
      "text/plain": [
       "0         False\n",
       "1         False\n",
       "2         False\n",
       "3         False\n",
       "4         False\n",
       "          ...  \n",
       "264831    False\n",
       "264832    False\n",
       "264833    False\n",
       "264834    False\n",
       "264835    False\n",
       "Length: 264836, dtype: bool"
      ]
     },
     "execution_count": 17,
     "metadata": {},
     "output_type": "execute_result"
    }
   ],
   "source": [
    "#Checking DUPLICATES\n",
    "Store_Data.duplicated()"
   ]
  },
  {
   "cell_type": "code",
   "execution_count": 18,
   "id": "eb9daa4c",
   "metadata": {
    "ExecuteTime": {
     "end_time": "2024-03-16T13:13:31.475086Z",
     "start_time": "2024-03-16T13:13:31.200914Z"
    }
   },
   "outputs": [
    {
     "data": {
      "image/png": "[encoded data removed]",
      "text/plain": [
       "<Figure size 432x288 with 1 Axes>"
      ]
     },
     "metadata": {
      "needs_background": "light"
     },
     "output_type": "display_data"
    }
   ],
   "source": [
    "#Checking for outliers\n",
    "Outlier=plt.boxplot(Store_Data.TOT_SALES)  "
   ]
  },
  {
   "cell_type": "code",
   "execution_count": 19,
   "id": "9c0075e6",
   "metadata": {
    "ExecuteTime": {
     "end_time": "2024-03-16T13:13:31.491092Z",
     "start_time": "2024-03-16T13:13:31.477087Z"
    }
   },
   "outputs": [
    {
     "data": {
      "text/plain": [
       "[1.5, 14.8]"
      ]
     },
     "execution_count": 19,
     "metadata": {},
     "output_type": "execute_result"
    }
   ],
   "source": [
    "[item.get_ydata() [1] for item in Outlier ['whiskers']]"
   ]
  },
  {
   "cell_type": "code",
   "execution_count": 20,
   "id": "cc14f97f",
   "metadata": {
    "ExecuteTime": {
     "end_time": "2024-03-16T13:13:31.537086Z",
     "start_time": "2024-03-16T13:13:31.494086Z"
    }
   },
   "outputs": [
    {
     "data": {
      "text/html": [
       "<div>\n",
       "<style scoped>\n",
       "    .dataframe tbody tr th:only-of-type {\n",
       "        vertical-align: middle;\n",
       "    }\n",
       "\n",
       "    .dataframe tbody tr th {\n",
       "        vertical-align: top;\n",
       "    }\n",
       "\n",
       "    .dataframe thead th {\n",
       "        text-align: right;\n",
       "    }\n",
       "</style>\n",
       "<table border=\"1\" class=\"dataframe\">\n",
       "  <thead>\n",
       "    <tr style=\"text-align: right;\">\n",
       "      <th></th>\n",
       "      <th>DATE</th>\n",
       "      <th>STORE_NBR</th>\n",
       "      <th>LYLTY_CARD_NBR</th>\n",
       "      <th>TXN_ID</th>\n",
       "      <th>PROD_NBR</th>\n",
       "      <th>PROD_NAME</th>\n",
       "      <th>PROD_QTY</th>\n",
       "      <th>TOT_SALES</th>\n",
       "      <th>LIFESTAGE</th>\n",
       "      <th>PREMIUM_CUSTOMER</th>\n",
       "    </tr>\n",
       "  </thead>\n",
       "  <tbody>\n",
       "    <tr>\n",
       "      <th>69762</th>\n",
       "      <td>2018-08-19</td>\n",
       "      <td>226</td>\n",
       "      <td>226000</td>\n",
       "      <td>226201</td>\n",
       "      <td>4</td>\n",
       "      <td>Dorito Corn Chp     Supreme 380g</td>\n",
       "      <td>200</td>\n",
       "      <td>650.0</td>\n",
       "      <td>OLDER FAMILIES</td>\n",
       "      <td>Premium</td>\n",
       "    </tr>\n",
       "    <tr>\n",
       "      <th>69763</th>\n",
       "      <td>2019-05-20</td>\n",
       "      <td>226</td>\n",
       "      <td>226000</td>\n",
       "      <td>226210</td>\n",
       "      <td>4</td>\n",
       "      <td>Dorito Corn Chp     Supreme 380g</td>\n",
       "      <td>200</td>\n",
       "      <td>650.0</td>\n",
       "      <td>OLDER FAMILIES</td>\n",
       "      <td>Premium</td>\n",
       "    </tr>\n",
       "  </tbody>\n",
       "</table>\n",
       "</div>"
      ],
      "text/plain": [
       "            DATE  STORE_NBR  LYLTY_CARD_NBR  TXN_ID  PROD_NBR  \\\n",
       "69762 2018-08-19        226          226000  226201         4   \n",
       "69763 2019-05-20        226          226000  226210         4   \n",
       "\n",
       "                              PROD_NAME  PROD_QTY  TOT_SALES       LIFESTAGE  \\\n",
       "69762  Dorito Corn Chp     Supreme 380g       200      650.0  OLDER FAMILIES   \n",
       "69763  Dorito Corn Chp     Supreme 380g       200      650.0  OLDER FAMILIES   \n",
       "\n",
       "      PREMIUM_CUSTOMER  \n",
       "69762          Premium  \n",
       "69763          Premium  "
      ]
     },
     "execution_count": 20,
     "metadata": {},
     "output_type": "execute_result"
    }
   ],
   "source": [
    "y=Store_Data[Store_Data[\"TOT_SALES\"]>500]\n",
    "y"
   ]
  },
  {
   "cell_type": "code",
   "execution_count": 21,
   "id": "af5357bf",
   "metadata": {
    "ExecuteTime": {
     "end_time": "2024-03-16T13:13:31.600546Z",
     "start_time": "2024-03-16T13:13:31.541087Z"
    }
   },
   "outputs": [],
   "source": [
    "#Removing outliers that is 2 rows where sales was 650\n",
    "Store_Data = Store_Data.drop(Store_Data[Store_Data['TOT_SALES'] > 500].index)\n"
   ]
  },
  {
   "cell_type": "code",
   "execution_count": 22,
   "id": "ff944192",
   "metadata": {
    "ExecuteTime": {
     "end_time": "2024-03-16T13:13:31.664500Z",
     "start_time": "2024-03-16T13:13:31.604575Z"
    }
   },
   "outputs": [
    {
     "name": "stdout",
     "output_type": "stream",
     "text": [
      "['Natural Chip        Compny SeaSalt175g' 'CCs Nacho Cheese    175g'\n",
      " 'Smiths Crinkle Cut  Chips Chicken 170g'\n",
      " 'Smiths Chip Thinly  S/Cream&Onion 175g'\n",
      " 'Kettle Tortilla ChpsHny&Jlpno Chili 150g'\n",
      " 'Old El Paso Salsa   Dip Tomato Mild 300g'\n",
      " 'Smiths Crinkle Chips Salt & Vinegar 330g'\n",
      " 'Grain Waves         Sweet Chilli 210g'\n",
      " 'Doritos Corn Chip Mexican Jalapeno 150g'\n",
      " 'Grain Waves Sour    Cream&Chives 210G'\n",
      " 'Kettle Sensations   Siracha Lime 150g' 'Twisties Cheese     270g'\n",
      " 'WW Crinkle Cut      Chicken 175g' 'Thins Chips Light&  Tangy 175g'\n",
      " 'CCs Original 175g' 'Burger Rings 220g'\n",
      " 'NCC Sour Cream &    Garden Chives 175g'\n",
      " 'Doritos Corn Chip Southern Chicken 150g' 'Cheezels Cheese Box 125g'\n",
      " 'Smiths Crinkle      Original 330g'\n",
      " 'Infzns Crn Crnchers Tangy Gcamole 110g'\n",
      " 'Kettle Sea Salt     And Vinegar 175g'\n",
      " 'Smiths Chip Thinly  Cut Original 175g' 'Kettle Original 175g'\n",
      " 'Red Rock Deli Thai  Chilli&Lime 150g' 'Pringles Sthrn FriedChicken 134g'\n",
      " 'Pringles Sweet&Spcy BBQ 134g' 'Red Rock Deli SR    Salsa & Mzzrlla 150g'\n",
      " 'Thins Chips         Originl saltd 175g'\n",
      " 'Red Rock Deli Sp    Salt & Truffle 150G'\n",
      " 'Smiths Thinly       Swt Chli&S/Cream175G' 'Kettle Chilli 175g'\n",
      " 'Doritos Mexicana    170g' 'Smiths Crinkle Cut  French OnionDip 150g'\n",
      " 'Natural ChipCo      Hony Soy Chckn175g'\n",
      " 'Dorito Corn Chp     Supreme 380g' 'Twisties Chicken270g'\n",
      " 'Smiths Thinly Cut   Roast Chicken 175g'\n",
      " 'Smiths Crinkle Cut  Tomato Salsa 150g'\n",
      " 'Kettle Mozzarella   Basil & Pesto 175g'\n",
      " 'Infuzions Thai SweetChili PotatoMix 110g'\n",
      " 'Kettle Sensations   Camembert & Fig 150g'\n",
      " 'Smith Crinkle Cut   Mac N Cheese 150g'\n",
      " 'Kettle Honey Soy    Chicken 175g' 'Thins Chips Seasonedchicken 175g'\n",
      " 'Smiths Crinkle Cut  Salt & Vinegar 170g'\n",
      " 'Infuzions BBQ Rib   Prawn Crackers 110g'\n",
      " 'GrnWves Plus Btroot & Chilli Jam 180g'\n",
      " 'Tyrrells Crisps     Lightly Salted 165g'\n",
      " 'Kettle Sweet Chilli And Sour Cream 175g'\n",
      " 'Doritos Salsa       Medium 300g' 'Kettle 135g Swt Pot Sea Salt'\n",
      " 'Pringles SourCream  Onion 134g' 'Doritos Corn Chips  Original 170g'\n",
      " 'Twisties Cheese     Burger 250g'\n",
      " 'Old El Paso Salsa   Dip Chnky Tom Ht300g'\n",
      " 'Cobs Popd Swt/Chlli &Sr/Cream Chips 110g'\n",
      " 'Woolworths Mild     Salsa 300g'\n",
      " 'Natural Chip Co     Tmato Hrb&Spce 175g'\n",
      " 'Smiths Crinkle Cut  Chips Original 170g'\n",
      " 'Cobs Popd Sea Salt  Chips 110g'\n",
      " 'Smiths Crinkle Cut  Chips Chs&Onion170g'\n",
      " 'French Fries Potato Chips 175g'\n",
      " 'Old El Paso Salsa   Dip Tomato Med 300g'\n",
      " 'Doritos Corn Chips  Cheese Supreme 170g'\n",
      " 'Pringles Original   Crisps 134g' 'RRD Chilli&         Coconut 150g'\n",
      " 'WW Original Corn    Chips 200g' 'Thins Potato Chips  Hot & Spicy 175g'\n",
      " 'Cobs Popd Sour Crm  &Chives Chips 110g'\n",
      " 'Smiths Crnkle Chip  Orgnl Big Bag 380g'\n",
      " 'Doritos Corn Chips  Nacho Cheese 170g'\n",
      " 'Kettle Sensations   BBQ&Maple 150g' 'WW D/Style Chip     Sea Salt 200g'\n",
      " 'Pringles Chicken    Salt Crips 134g' 'WW Original Stacked Chips 160g'\n",
      " 'Smiths Chip Thinly  CutSalt/Vinegr175g' 'Cheezels Cheese 330g'\n",
      " 'Tostitos Lightly    Salted 175g' 'Thins Chips Salt &  Vinegar 175g'\n",
      " 'Smiths Crinkle Cut  Chips Barbecue 170g' 'Cheetos Puffs 165g'\n",
      " 'RRD Sweet Chilli &  Sour Cream 165g' 'WW Crinkle Cut      Original 175g'\n",
      " 'Tostitos Splash Of  Lime 175g' 'Woolworths Medium   Salsa 300g'\n",
      " 'Kettle Tortilla ChpsBtroot&Ricotta 150g' 'CCs Tasty Cheese    175g'\n",
      " 'Woolworths Cheese   Rings 190g' 'Tostitos Smoked     Chipotle 175g'\n",
      " 'Pringles Barbeque   134g' 'WW Supreme Cheese   Corn Chips 200g'\n",
      " 'Pringles Mystery    Flavour 134g'\n",
      " 'Tyrrells Crisps     Ched & Chives 165g'\n",
      " 'Snbts Whlgrn Crisps Cheddr&Mstrd 90g' 'Cheetos Chs & Bacon Balls 190g'\n",
      " 'Pringles Slt Vingar 134g' 'Infuzions SourCream&Herbs Veg Strws 110g'\n",
      " 'Kettle Tortilla ChpsFeta&Garlic 150g'\n",
      " 'Infuzions Mango     Chutny Papadums 70g'\n",
      " 'RRD Steak &         Chimuchurri 150g' 'RRD Honey Soy       Chicken 165g'\n",
      " 'Sunbites Whlegrn    Crisps Frch/Onin 90g' 'RRD Salt & Vinegar  165g'\n",
      " 'Doritos Cheese      Supreme 330g' 'Smiths Crinkle Cut  Snag&Sauce 150g'\n",
      " 'WW Sour Cream &OnionStacked Chips 160g' 'RRD Lime & Pepper   165g'\n",
      " 'Natural ChipCo Sea  Salt & Vinegr 175g'\n",
      " 'Red Rock Deli Chikn&Garlic Aioli 150g'\n",
      " 'RRD SR Slow Rst     Pork Belly 150g' 'RRD Pc Sea Salt     165g'\n",
      " 'Smith Crinkle Cut   Bolognese 150g' 'Doritos Salsa Mild  300g']\n"
     ]
    }
   ],
   "source": [
    "#Displyaing unique values of products\n",
    "unique_values = Store_Data['PROD_NAME'].unique()\n",
    "print(unique_values)"
   ]
  },
  {
   "cell_type": "code",
   "execution_count": 23,
   "id": "e8c77d3b",
   "metadata": {
    "ExecuteTime": {
     "end_time": "2024-03-16T13:13:31.958537Z",
     "start_time": "2024-03-16T13:13:31.666590Z"
    }
   },
   "outputs": [
    {
     "data": {
      "text/html": [
       "<div>\n",
       "<style scoped>\n",
       "    .dataframe tbody tr th:only-of-type {\n",
       "        vertical-align: middle;\n",
       "    }\n",
       "\n",
       "    .dataframe tbody tr th {\n",
       "        vertical-align: top;\n",
       "    }\n",
       "\n",
       "    .dataframe thead th {\n",
       "        text-align: right;\n",
       "    }\n",
       "</style>\n",
       "<table border=\"1\" class=\"dataframe\">\n",
       "  <thead>\n",
       "    <tr style=\"text-align: right;\">\n",
       "      <th></th>\n",
       "      <th>DATE</th>\n",
       "      <th>STORE_NBR</th>\n",
       "      <th>LYLTY_CARD_NBR</th>\n",
       "      <th>TXN_ID</th>\n",
       "      <th>PROD_NBR</th>\n",
       "      <th>PROD_NAME</th>\n",
       "      <th>PROD_QTY</th>\n",
       "      <th>TOT_SALES</th>\n",
       "      <th>LIFESTAGE</th>\n",
       "      <th>PREMIUM_CUSTOMER</th>\n",
       "    </tr>\n",
       "  </thead>\n",
       "  <tbody>\n",
       "    <tr>\n",
       "      <th>0</th>\n",
       "      <td>2018-10-17</td>\n",
       "      <td>1</td>\n",
       "      <td>1000</td>\n",
       "      <td>1</td>\n",
       "      <td>5</td>\n",
       "      <td>Natural Chip        Compny SeaSalt175g</td>\n",
       "      <td>2</td>\n",
       "      <td>6.0</td>\n",
       "      <td>YOUNG SINGLES/COUPLES</td>\n",
       "      <td>Premium</td>\n",
       "    </tr>\n",
       "    <tr>\n",
       "      <th>2</th>\n",
       "      <td>2019-05-20</td>\n",
       "      <td>1</td>\n",
       "      <td>1343</td>\n",
       "      <td>383</td>\n",
       "      <td>61</td>\n",
       "      <td>Smiths Crinkle Cut  Chips Chicken 170g</td>\n",
       "      <td>2</td>\n",
       "      <td>2.9</td>\n",
       "      <td>MIDAGE SINGLES/COUPLES</td>\n",
       "      <td>Budget</td>\n",
       "    </tr>\n",
       "    <tr>\n",
       "      <th>3</th>\n",
       "      <td>2018-08-17</td>\n",
       "      <td>2</td>\n",
       "      <td>2373</td>\n",
       "      <td>974</td>\n",
       "      <td>69</td>\n",
       "      <td>Smiths Chip Thinly  S/Cream&amp;Onion 175g</td>\n",
       "      <td>5</td>\n",
       "      <td>15.0</td>\n",
       "      <td>MIDAGE SINGLES/COUPLES</td>\n",
       "      <td>Budget</td>\n",
       "    </tr>\n",
       "    <tr>\n",
       "      <th>6</th>\n",
       "      <td>2019-05-16</td>\n",
       "      <td>4</td>\n",
       "      <td>4149</td>\n",
       "      <td>3333</td>\n",
       "      <td>16</td>\n",
       "      <td>Smiths Crinkle Chips Salt &amp; Vinegar 330g</td>\n",
       "      <td>1</td>\n",
       "      <td>5.7</td>\n",
       "      <td>MIDAGE SINGLES/COUPLES</td>\n",
       "      <td>Budget</td>\n",
       "    </tr>\n",
       "    <tr>\n",
       "      <th>8</th>\n",
       "      <td>2018-08-20</td>\n",
       "      <td>5</td>\n",
       "      <td>5026</td>\n",
       "      <td>4525</td>\n",
       "      <td>42</td>\n",
       "      <td>Doritos Corn Chip Mexican Jalapeno 150g</td>\n",
       "      <td>1</td>\n",
       "      <td>3.9</td>\n",
       "      <td>MIDAGE SINGLES/COUPLES</td>\n",
       "      <td>Budget</td>\n",
       "    </tr>\n",
       "  </tbody>\n",
       "</table>\n",
       "</div>"
      ],
      "text/plain": [
       "        DATE  STORE_NBR  LYLTY_CARD_NBR  TXN_ID  PROD_NBR  \\\n",
       "0 2018-10-17          1            1000       1         5   \n",
       "2 2019-05-20          1            1343     383        61   \n",
       "3 2018-08-17          2            2373     974        69   \n",
       "6 2019-05-16          4            4149    3333        16   \n",
       "8 2018-08-20          5            5026    4525        42   \n",
       "\n",
       "                                  PROD_NAME  PROD_QTY  TOT_SALES  \\\n",
       "0    Natural Chip        Compny SeaSalt175g         2        6.0   \n",
       "2    Smiths Crinkle Cut  Chips Chicken 170g         2        2.9   \n",
       "3    Smiths Chip Thinly  S/Cream&Onion 175g         5       15.0   \n",
       "6  Smiths Crinkle Chips Salt & Vinegar 330g         1        5.7   \n",
       "8   Doritos Corn Chip Mexican Jalapeno 150g         1        3.9   \n",
       "\n",
       "                LIFESTAGE PREMIUM_CUSTOMER  \n",
       "0   YOUNG SINGLES/COUPLES          Premium  \n",
       "2  MIDAGE SINGLES/COUPLES           Budget  \n",
       "3  MIDAGE SINGLES/COUPLES           Budget  \n",
       "6  MIDAGE SINGLES/COUPLES           Budget  \n",
       "8  MIDAGE SINGLES/COUPLES           Budget  "
      ]
     },
     "execution_count": 23,
     "metadata": {},
     "output_type": "execute_result"
    }
   ],
   "source": [
    "# Filtering out rows where the product name does not contain the word \"chip\"\n",
    "filtered_Store_Data = Store_Data[Store_Data['PROD_NAME'].str.contains('chip', case=False, na=False)]\n",
    "filtered_Store_Data.head()"
   ]
  },
  {
   "cell_type": "code",
   "execution_count": 24,
   "id": "cc5e4cfd",
   "metadata": {
    "ExecuteTime": {
     "end_time": "2024-03-16T13:13:31.974538Z",
     "start_time": "2024-03-16T13:13:31.961537Z"
    }
   },
   "outputs": [
    {
     "data": {
      "text/plain": [
       "(74570, 10)"
      ]
     },
     "execution_count": 24,
     "metadata": {},
     "output_type": "execute_result"
    }
   ],
   "source": [
    "filtered_Store_Data.shape"
   ]
  },
  {
   "cell_type": "code",
   "execution_count": 25,
   "id": "1f456432",
   "metadata": {
    "ExecuteTime": {
     "end_time": "2024-03-16T13:13:32.006542Z",
     "start_time": "2024-03-16T13:13:31.979540Z"
    }
   },
   "outputs": [
    {
     "name": "stdout",
     "output_type": "stream",
     "text": [
      "          DATE  Transaction_Count\n",
      "0   2018-07-01                167\n",
      "1   2018-07-02                194\n",
      "2   2018-07-03                209\n",
      "3   2018-07-04                182\n",
      "4   2018-07-05                213\n",
      "..         ...                ...\n",
      "359 2019-06-26                192\n",
      "360 2019-06-27                186\n",
      "361 2019-06-28                234\n",
      "362 2019-06-29                212\n",
      "363 2019-06-30                217\n",
      "\n",
      "[364 rows x 2 columns]\n"
     ]
    }
   ],
   "source": [
    "transaction_counts_by_date = filtered_Store_Data.groupby('DATE').size().reset_index(name='Transaction_Count')\n",
    "\n",
    "print(transaction_counts_by_date)"
   ]
  },
  {
   "cell_type": "code",
   "execution_count": 26,
   "id": "c3e9a90c",
   "metadata": {
    "ExecuteTime": {
     "end_time": "2024-03-16T13:13:32.022539Z",
     "start_time": "2024-03-16T13:13:32.011541Z"
    }
   },
   "outputs": [],
   "source": [
    "import re"
   ]
  },
  {
   "cell_type": "code",
   "execution_count": 27,
   "id": "d1b31cc6",
   "metadata": {
    "ExecuteTime": {
     "end_time": "2024-03-16T13:13:32.660398Z",
     "start_time": "2024-03-16T13:13:32.028539Z"
    }
   },
   "outputs": [
    {
     "name": "stderr",
     "output_type": "stream",
     "text": [
      "C:\\Users\\jswat\\AppData\\Local\\Temp\\ipykernel_8560\\2894145059.py:10: SettingWithCopyWarning: \n",
      "A value is trying to be set on a copy of a slice from a DataFrame.\n",
      "Try using .loc[row_indexer,col_indexer] = value instead\n",
      "\n",
      "See the caveats in the documentation: https://pandas.pydata.org/pandas-docs/stable/user_guide/indexing.html#returning-a-view-versus-a-copy\n",
      "  filtered_Store_Data['PACK_SIZE'] = filtered_Store_Data['PROD_NAME'].apply(extract_pack_size)\n"
     ]
    },
    {
     "data": {
      "text/html": [
       "<div>\n",
       "<style scoped>\n",
       "    .dataframe tbody tr th:only-of-type {\n",
       "        vertical-align: middle;\n",
       "    }\n",
       "\n",
       "    .dataframe tbody tr th {\n",
       "        vertical-align: top;\n",
       "    }\n",
       "\n",
       "    .dataframe thead th {\n",
       "        text-align: right;\n",
       "    }\n",
       "</style>\n",
       "<table border=\"1\" class=\"dataframe\">\n",
       "  <thead>\n",
       "    <tr style=\"text-align: right;\">\n",
       "      <th></th>\n",
       "      <th>DATE</th>\n",
       "      <th>STORE_NBR</th>\n",
       "      <th>LYLTY_CARD_NBR</th>\n",
       "      <th>TXN_ID</th>\n",
       "      <th>PROD_NBR</th>\n",
       "      <th>PROD_NAME</th>\n",
       "      <th>PROD_QTY</th>\n",
       "      <th>TOT_SALES</th>\n",
       "      <th>LIFESTAGE</th>\n",
       "      <th>PREMIUM_CUSTOMER</th>\n",
       "      <th>PACK_SIZE</th>\n",
       "    </tr>\n",
       "  </thead>\n",
       "  <tbody>\n",
       "    <tr>\n",
       "      <th>0</th>\n",
       "      <td>2018-10-17</td>\n",
       "      <td>1</td>\n",
       "      <td>1000</td>\n",
       "      <td>1</td>\n",
       "      <td>5</td>\n",
       "      <td>Natural Chip        Compny SeaSalt175g</td>\n",
       "      <td>2</td>\n",
       "      <td>6.0</td>\n",
       "      <td>YOUNG SINGLES/COUPLES</td>\n",
       "      <td>Premium</td>\n",
       "      <td>175g</td>\n",
       "    </tr>\n",
       "    <tr>\n",
       "      <th>2</th>\n",
       "      <td>2019-05-20</td>\n",
       "      <td>1</td>\n",
       "      <td>1343</td>\n",
       "      <td>383</td>\n",
       "      <td>61</td>\n",
       "      <td>Smiths Crinkle Cut  Chips Chicken 170g</td>\n",
       "      <td>2</td>\n",
       "      <td>2.9</td>\n",
       "      <td>MIDAGE SINGLES/COUPLES</td>\n",
       "      <td>Budget</td>\n",
       "      <td>170g</td>\n",
       "    </tr>\n",
       "    <tr>\n",
       "      <th>3</th>\n",
       "      <td>2018-08-17</td>\n",
       "      <td>2</td>\n",
       "      <td>2373</td>\n",
       "      <td>974</td>\n",
       "      <td>69</td>\n",
       "      <td>Smiths Chip Thinly  S/Cream&amp;Onion 175g</td>\n",
       "      <td>5</td>\n",
       "      <td>15.0</td>\n",
       "      <td>MIDAGE SINGLES/COUPLES</td>\n",
       "      <td>Budget</td>\n",
       "      <td>175g</td>\n",
       "    </tr>\n",
       "    <tr>\n",
       "      <th>6</th>\n",
       "      <td>2019-05-16</td>\n",
       "      <td>4</td>\n",
       "      <td>4149</td>\n",
       "      <td>3333</td>\n",
       "      <td>16</td>\n",
       "      <td>Smiths Crinkle Chips Salt &amp; Vinegar 330g</td>\n",
       "      <td>1</td>\n",
       "      <td>5.7</td>\n",
       "      <td>MIDAGE SINGLES/COUPLES</td>\n",
       "      <td>Budget</td>\n",
       "      <td>330g</td>\n",
       "    </tr>\n",
       "    <tr>\n",
       "      <th>8</th>\n",
       "      <td>2018-08-20</td>\n",
       "      <td>5</td>\n",
       "      <td>5026</td>\n",
       "      <td>4525</td>\n",
       "      <td>42</td>\n",
       "      <td>Doritos Corn Chip Mexican Jalapeno 150g</td>\n",
       "      <td>1</td>\n",
       "      <td>3.9</td>\n",
       "      <td>MIDAGE SINGLES/COUPLES</td>\n",
       "      <td>Budget</td>\n",
       "      <td>150g</td>\n",
       "    </tr>\n",
       "  </tbody>\n",
       "</table>\n",
       "</div>"
      ],
      "text/plain": [
       "        DATE  STORE_NBR  LYLTY_CARD_NBR  TXN_ID  PROD_NBR  \\\n",
       "0 2018-10-17          1            1000       1         5   \n",
       "2 2019-05-20          1            1343     383        61   \n",
       "3 2018-08-17          2            2373     974        69   \n",
       "6 2019-05-16          4            4149    3333        16   \n",
       "8 2018-08-20          5            5026    4525        42   \n",
       "\n",
       "                                  PROD_NAME  PROD_QTY  TOT_SALES  \\\n",
       "0    Natural Chip        Compny SeaSalt175g         2        6.0   \n",
       "2    Smiths Crinkle Cut  Chips Chicken 170g         2        2.9   \n",
       "3    Smiths Chip Thinly  S/Cream&Onion 175g         5       15.0   \n",
       "6  Smiths Crinkle Chips Salt & Vinegar 330g         1        5.7   \n",
       "8   Doritos Corn Chip Mexican Jalapeno 150g         1        3.9   \n",
       "\n",
       "                LIFESTAGE PREMIUM_CUSTOMER PACK_SIZE  \n",
       "0   YOUNG SINGLES/COUPLES          Premium      175g  \n",
       "2  MIDAGE SINGLES/COUPLES           Budget      170g  \n",
       "3  MIDAGE SINGLES/COUPLES           Budget      175g  \n",
       "6  MIDAGE SINGLES/COUPLES           Budget      330g  \n",
       "8  MIDAGE SINGLES/COUPLES           Budget      150g  "
      ]
     },
     "execution_count": 27,
     "metadata": {},
     "output_type": "execute_result"
    }
   ],
   "source": [
    "# Creating pack size column\n",
    "def extract_pack_size(PROD_NAME):\n",
    "    match = re.search(r'(\\d+g)', PROD_NAME)  # Search for a sequence of digits followed by 'g'\n",
    "    if match:\n",
    "        return match.group(0)  # Return the matched string (e.g., '175g')\n",
    "    else:\n",
    "        return None  # Return None if no match is found\n",
    "\n",
    "# Apply the function to create the 'PACK_SIZE' column\n",
    "filtered_Store_Data['PACK_SIZE'] = filtered_Store_Data['PROD_NAME'].apply(extract_pack_size)\n",
    "\n",
    "# Display the DataFrame with the new 'PACK_SIZE' column\n",
    "filtered_Store_Data.head()"
   ]
  },
  {
   "cell_type": "code",
   "execution_count": 28,
   "id": "785b3cea",
   "metadata": {
    "ExecuteTime": {
     "end_time": "2024-03-16T13:13:32.692400Z",
     "start_time": "2024-03-16T13:13:32.663398Z"
    }
   },
   "outputs": [
    {
     "name": "stdout",
     "output_type": "stream",
     "text": [
      "['Natural Chip        Compny SeaSalt175g'\n",
      " 'Smiths Crinkle Cut  Chips Chicken 170g'\n",
      " 'Smiths Chip Thinly  S/Cream&Onion 175g'\n",
      " 'Smiths Crinkle Chips Salt & Vinegar 330g'\n",
      " 'Doritos Corn Chip Mexican Jalapeno 150g'\n",
      " 'Thins Chips Light&  Tangy 175g'\n",
      " 'Doritos Corn Chip Southern Chicken 150g'\n",
      " 'Smiths Chip Thinly  Cut Original 175g'\n",
      " 'Thins Chips         Originl saltd 175g'\n",
      " 'Natural ChipCo      Hony Soy Chckn175g'\n",
      " 'Thins Chips Seasonedchicken 175g' 'Doritos Corn Chips  Original 170g'\n",
      " 'Cobs Popd Swt/Chlli &Sr/Cream Chips 110g'\n",
      " 'Natural Chip Co     Tmato Hrb&Spce 175g'\n",
      " 'Smiths Crinkle Cut  Chips Original 170g'\n",
      " 'Cobs Popd Sea Salt  Chips 110g'\n",
      " 'Smiths Crinkle Cut  Chips Chs&Onion170g'\n",
      " 'French Fries Potato Chips 175g'\n",
      " 'Doritos Corn Chips  Cheese Supreme 170g'\n",
      " 'WW Original Corn    Chips 200g' 'Thins Potato Chips  Hot & Spicy 175g'\n",
      " 'Cobs Popd Sour Crm  &Chives Chips 110g'\n",
      " 'Smiths Crnkle Chip  Orgnl Big Bag 380g'\n",
      " 'Doritos Corn Chips  Nacho Cheese 170g'\n",
      " 'WW D/Style Chip     Sea Salt 200g' 'WW Original Stacked Chips 160g'\n",
      " 'Smiths Chip Thinly  CutSalt/Vinegr175g'\n",
      " 'Thins Chips Salt &  Vinegar 175g'\n",
      " 'Smiths Crinkle Cut  Chips Barbecue 170g'\n",
      " 'Tostitos Smoked     Chipotle 175g' 'WW Supreme Cheese   Corn Chips 200g'\n",
      " 'WW Sour Cream &OnionStacked Chips 160g'\n",
      " 'Natural ChipCo Sea  Salt & Vinegr 175g']\n"
     ]
    }
   ],
   "source": [
    "# Displaying unique value of chips\n",
    "Chips = filtered_Store_Data['PROD_NAME'].unique()\n",
    "print(Chips)"
   ]
  },
  {
   "cell_type": "code",
   "execution_count": 29,
   "id": "d9a8a826",
   "metadata": {
    "ExecuteTime": {
     "end_time": "2024-03-16T13:13:32.868501Z",
     "start_time": "2024-03-16T13:13:32.698407Z"
    }
   },
   "outputs": [
    {
     "name": "stderr",
     "output_type": "stream",
     "text": [
      "C:\\Users\\jswat\\AppData\\Local\\Temp\\ipykernel_8560\\2356812979.py:2: SettingWithCopyWarning: \n",
      "A value is trying to be set on a copy of a slice from a DataFrame.\n",
      "Try using .loc[row_indexer,col_indexer] = value instead\n",
      "\n",
      "See the caveats in the documentation: https://pandas.pydata.org/pandas-docs/stable/user_guide/indexing.html#returning-a-view-versus-a-copy\n",
      "  filtered_Store_Data['brand_name'] = filtered_Store_Data['PROD_NAME'].str.split().str[0]\n"
     ]
    }
   ],
   "source": [
    "# Creating Brand Name column\n",
    "filtered_Store_Data['brand_name'] = filtered_Store_Data['PROD_NAME'].str.split().str[0]\n"
   ]
  },
  {
   "cell_type": "code",
   "execution_count": 30,
   "id": "2a83be0c",
   "metadata": {
    "ExecuteTime": {
     "end_time": "2024-03-16T13:13:32.930506Z",
     "start_time": "2024-03-16T13:13:32.872399Z"
    },
    "scrolled": true
   },
   "outputs": [
    {
     "data": {
      "text/html": [
       "<div>\n",
       "<style scoped>\n",
       "    .dataframe tbody tr th:only-of-type {\n",
       "        vertical-align: middle;\n",
       "    }\n",
       "\n",
       "    .dataframe tbody tr th {\n",
       "        vertical-align: top;\n",
       "    }\n",
       "\n",
       "    .dataframe thead th {\n",
       "        text-align: right;\n",
       "    }\n",
       "</style>\n",
       "<table border=\"1\" class=\"dataframe\">\n",
       "  <thead>\n",
       "    <tr style=\"text-align: right;\">\n",
       "      <th></th>\n",
       "      <th>DATE</th>\n",
       "      <th>STORE_NBR</th>\n",
       "      <th>LYLTY_CARD_NBR</th>\n",
       "      <th>TXN_ID</th>\n",
       "      <th>PROD_NBR</th>\n",
       "      <th>PROD_NAME</th>\n",
       "      <th>PROD_QTY</th>\n",
       "      <th>TOT_SALES</th>\n",
       "      <th>LIFESTAGE</th>\n",
       "      <th>PREMIUM_CUSTOMER</th>\n",
       "      <th>PACK_SIZE</th>\n",
       "      <th>brand_name</th>\n",
       "    </tr>\n",
       "  </thead>\n",
       "  <tbody>\n",
       "    <tr>\n",
       "      <th>0</th>\n",
       "      <td>2018-10-17</td>\n",
       "      <td>1</td>\n",
       "      <td>1000</td>\n",
       "      <td>1</td>\n",
       "      <td>5</td>\n",
       "      <td>Natural Chip        Compny SeaSalt175g</td>\n",
       "      <td>2</td>\n",
       "      <td>6.0</td>\n",
       "      <td>YOUNG SINGLES/COUPLES</td>\n",
       "      <td>Premium</td>\n",
       "      <td>175g</td>\n",
       "      <td>Natural</td>\n",
       "    </tr>\n",
       "    <tr>\n",
       "      <th>2</th>\n",
       "      <td>2019-05-20</td>\n",
       "      <td>1</td>\n",
       "      <td>1343</td>\n",
       "      <td>383</td>\n",
       "      <td>61</td>\n",
       "      <td>Smiths Crinkle Cut  Chips Chicken 170g</td>\n",
       "      <td>2</td>\n",
       "      <td>2.9</td>\n",
       "      <td>MIDAGE SINGLES/COUPLES</td>\n",
       "      <td>Budget</td>\n",
       "      <td>170g</td>\n",
       "      <td>Smiths</td>\n",
       "    </tr>\n",
       "    <tr>\n",
       "      <th>3</th>\n",
       "      <td>2018-08-17</td>\n",
       "      <td>2</td>\n",
       "      <td>2373</td>\n",
       "      <td>974</td>\n",
       "      <td>69</td>\n",
       "      <td>Smiths Chip Thinly  S/Cream&amp;Onion 175g</td>\n",
       "      <td>5</td>\n",
       "      <td>15.0</td>\n",
       "      <td>MIDAGE SINGLES/COUPLES</td>\n",
       "      <td>Budget</td>\n",
       "      <td>175g</td>\n",
       "      <td>Smiths</td>\n",
       "    </tr>\n",
       "    <tr>\n",
       "      <th>6</th>\n",
       "      <td>2019-05-16</td>\n",
       "      <td>4</td>\n",
       "      <td>4149</td>\n",
       "      <td>3333</td>\n",
       "      <td>16</td>\n",
       "      <td>Smiths Crinkle Chips Salt &amp; Vinegar 330g</td>\n",
       "      <td>1</td>\n",
       "      <td>5.7</td>\n",
       "      <td>MIDAGE SINGLES/COUPLES</td>\n",
       "      <td>Budget</td>\n",
       "      <td>330g</td>\n",
       "      <td>Smiths</td>\n",
       "    </tr>\n",
       "    <tr>\n",
       "      <th>8</th>\n",
       "      <td>2018-08-20</td>\n",
       "      <td>5</td>\n",
       "      <td>5026</td>\n",
       "      <td>4525</td>\n",
       "      <td>42</td>\n",
       "      <td>Doritos Corn Chip Mexican Jalapeno 150g</td>\n",
       "      <td>1</td>\n",
       "      <td>3.9</td>\n",
       "      <td>MIDAGE SINGLES/COUPLES</td>\n",
       "      <td>Budget</td>\n",
       "      <td>150g</td>\n",
       "      <td>Doritos</td>\n",
       "    </tr>\n",
       "  </tbody>\n",
       "</table>\n",
       "</div>"
      ],
      "text/plain": [
       "        DATE  STORE_NBR  LYLTY_CARD_NBR  TXN_ID  PROD_NBR  \\\n",
       "0 2018-10-17          1            1000       1         5   \n",
       "2 2019-05-20          1            1343     383        61   \n",
       "3 2018-08-17          2            2373     974        69   \n",
       "6 2019-05-16          4            4149    3333        16   \n",
       "8 2018-08-20          5            5026    4525        42   \n",
       "\n",
       "                                  PROD_NAME  PROD_QTY  TOT_SALES  \\\n",
       "0    Natural Chip        Compny SeaSalt175g         2        6.0   \n",
       "2    Smiths Crinkle Cut  Chips Chicken 170g         2        2.9   \n",
       "3    Smiths Chip Thinly  S/Cream&Onion 175g         5       15.0   \n",
       "6  Smiths Crinkle Chips Salt & Vinegar 330g         1        5.7   \n",
       "8   Doritos Corn Chip Mexican Jalapeno 150g         1        3.9   \n",
       "\n",
       "                LIFESTAGE PREMIUM_CUSTOMER PACK_SIZE brand_name  \n",
       "0   YOUNG SINGLES/COUPLES          Premium      175g    Natural  \n",
       "2  MIDAGE SINGLES/COUPLES           Budget      170g     Smiths  \n",
       "3  MIDAGE SINGLES/COUPLES           Budget      175g     Smiths  \n",
       "6  MIDAGE SINGLES/COUPLES           Budget      330g     Smiths  \n",
       "8  MIDAGE SINGLES/COUPLES           Budget      150g    Doritos  "
      ]
     },
     "execution_count": 30,
     "metadata": {},
     "output_type": "execute_result"
    }
   ],
   "source": [
    "filtered_Store_Data.head()"
   ]
  },
  {
   "cell_type": "markdown",
   "id": "aff0e47c",
   "metadata": {},
   "source": [
    "# DATA ANALYSIS FOR CUSTOMER SEGMENTS AND THEIR CHIPS PURCHASING BEHAVIOUR"
   ]
  },
  {
   "cell_type": "code",
   "execution_count": 31,
   "id": "6fa4b6d1",
   "metadata": {
    "ExecuteTime": {
     "end_time": "2024-03-16T13:13:32.978399Z",
     "start_time": "2024-03-16T13:13:32.933497Z"
    }
   },
   "outputs": [
    {
     "data": {
      "text/html": [
       "<div>\n",
       "<style scoped>\n",
       "    .dataframe tbody tr th:only-of-type {\n",
       "        vertical-align: middle;\n",
       "    }\n",
       "\n",
       "    .dataframe tbody tr th {\n",
       "        vertical-align: top;\n",
       "    }\n",
       "\n",
       "    .dataframe thead th {\n",
       "        text-align: right;\n",
       "    }\n",
       "</style>\n",
       "<table border=\"1\" class=\"dataframe\">\n",
       "  <thead>\n",
       "    <tr style=\"text-align: right;\">\n",
       "      <th>PREMIUM_CUSTOMER</th>\n",
       "      <th>Budget</th>\n",
       "      <th>Mainstream</th>\n",
       "      <th>Premium</th>\n",
       "    </tr>\n",
       "    <tr>\n",
       "      <th>LIFESTAGE</th>\n",
       "      <th></th>\n",
       "      <th></th>\n",
       "      <th></th>\n",
       "    </tr>\n",
       "  </thead>\n",
       "  <tbody>\n",
       "    <tr>\n",
       "      <th>MIDAGE SINGLES/COUPLES</th>\n",
       "      <td>9838.3</td>\n",
       "      <td>23950.4</td>\n",
       "      <td>15349.4</td>\n",
       "    </tr>\n",
       "    <tr>\n",
       "      <th>NEW FAMILIES</th>\n",
       "      <td>5651.4</td>\n",
       "      <td>4307.1</td>\n",
       "      <td>3087.3</td>\n",
       "    </tr>\n",
       "    <tr>\n",
       "      <th>OLDER FAMILIES</th>\n",
       "      <td>44859.2</td>\n",
       "      <td>28298.5</td>\n",
       "      <td>21256.1</td>\n",
       "    </tr>\n",
       "    <tr>\n",
       "      <th>OLDER SINGLES/COUPLES</th>\n",
       "      <td>35943.0</td>\n",
       "      <td>35443.2</td>\n",
       "      <td>34545.0</td>\n",
       "    </tr>\n",
       "    <tr>\n",
       "      <th>RETIREES</th>\n",
       "      <td>30051.8</td>\n",
       "      <td>40592.1</td>\n",
       "      <td>24804.4</td>\n",
       "    </tr>\n",
       "    <tr>\n",
       "      <th>YOUNG FAMILIES</th>\n",
       "      <td>37064.1</td>\n",
       "      <td>25319.5</td>\n",
       "      <td>22781.1</td>\n",
       "    </tr>\n",
       "    <tr>\n",
       "      <th>YOUNG SINGLES/COUPLES</th>\n",
       "      <td>16777.1</td>\n",
       "      <td>40069.9</td>\n",
       "      <td>11599.4</td>\n",
       "    </tr>\n",
       "  </tbody>\n",
       "</table>\n",
       "</div>"
      ],
      "text/plain": [
       "PREMIUM_CUSTOMER         Budget  Mainstream  Premium\n",
       "LIFESTAGE                                           \n",
       "MIDAGE SINGLES/COUPLES   9838.3     23950.4  15349.4\n",
       "NEW FAMILIES             5651.4      4307.1   3087.3\n",
       "OLDER FAMILIES          44859.2     28298.5  21256.1\n",
       "OLDER SINGLES/COUPLES   35943.0     35443.2  34545.0\n",
       "RETIREES                30051.8     40592.1  24804.4\n",
       "YOUNG FAMILIES          37064.1     25319.5  22781.1\n",
       "YOUNG SINGLES/COUPLES   16777.1     40069.9  11599.4"
      ]
     },
     "execution_count": 31,
     "metadata": {},
     "output_type": "execute_result"
    }
   ],
   "source": [
    "#Total Sales by LIFESTAGE and PREMIUM_CUSTOMER\n",
    "\n",
    "sales_by_customer_group = filtered_Store_Data.groupby(['LIFESTAGE', 'PREMIUM_CUSTOMER'])['TOT_SALES'].sum().reset_index()\n",
    "pivot_sales = sales_by_customer_group.pivot(index='LIFESTAGE', columns='PREMIUM_CUSTOMER', values='TOT_SALES')\n",
    "pivot_sales"
   ]
  },
  {
   "cell_type": "code",
   "execution_count": 32,
   "id": "b4731889",
   "metadata": {
    "ExecuteTime": {
     "end_time": "2024-03-16T13:13:33.350637Z",
     "start_time": "2024-03-16T13:13:32.983403Z"
    }
   },
   "outputs": [
    {
     "data": {
      "image/png": "[encoded data removed]",
      "text/plain": [
       "<Figure size 864x432 with 1 Axes>"
      ]
     },
     "metadata": {
      "needs_background": "light"
     },
     "output_type": "display_data"
    }
   ],
   "source": [
    "pivot_sales.plot(kind='bar', figsize=(12, 6))\n",
    "plt.title('Total Sales by LIFESTAGE and PREMIUM_CUSTOMER')\n",
    "plt.xlabel('LIFESTAGE')\n",
    "plt.ylabel('Total Sales')\n",
    "plt.xticks(rotation=45)\n",
    "plt.legend(title='PREMIUM_CUSTOMER')\n",
    "plt.tight_layout()\n",
    "plt.show()"
   ]
  },
  {
   "cell_type": "code",
   "execution_count": 33,
   "id": "fa30b8a1",
   "metadata": {
    "ExecuteTime": {
     "end_time": "2024-03-16T13:13:33.412746Z",
     "start_time": "2024-03-16T13:13:33.359636Z"
    }
   },
   "outputs": [
    {
     "data": {
      "text/html": [
       "<div>\n",
       "<style scoped>\n",
       "    .dataframe tbody tr th:only-of-type {\n",
       "        vertical-align: middle;\n",
       "    }\n",
       "\n",
       "    .dataframe tbody tr th {\n",
       "        vertical-align: top;\n",
       "    }\n",
       "\n",
       "    .dataframe thead th {\n",
       "        text-align: right;\n",
       "    }\n",
       "</style>\n",
       "<table border=\"1\" class=\"dataframe\">\n",
       "  <thead>\n",
       "    <tr style=\"text-align: right;\">\n",
       "      <th>PREMIUM_CUSTOMER</th>\n",
       "      <th>Budget</th>\n",
       "      <th>Mainstream</th>\n",
       "      <th>Premium</th>\n",
       "    </tr>\n",
       "    <tr>\n",
       "      <th>LIFESTAGE</th>\n",
       "      <th></th>\n",
       "      <th></th>\n",
       "      <th></th>\n",
       "    </tr>\n",
       "  </thead>\n",
       "  <tbody>\n",
       "    <tr>\n",
       "      <th>MIDAGE SINGLES/COUPLES</th>\n",
       "      <td>1473</td>\n",
       "      <td>3333</td>\n",
       "      <td>2298</td>\n",
       "    </tr>\n",
       "    <tr>\n",
       "      <th>NEW FAMILIES</th>\n",
       "      <td>840</td>\n",
       "      <td>635</td>\n",
       "      <td>449</td>\n",
       "    </tr>\n",
       "    <tr>\n",
       "      <th>OLDER FAMILIES</th>\n",
       "      <td>6539</td>\n",
       "      <td>4112</td>\n",
       "      <td>3131</td>\n",
       "    </tr>\n",
       "    <tr>\n",
       "      <th>OLDER SINGLES/COUPLES</th>\n",
       "      <td>5172</td>\n",
       "      <td>5162</td>\n",
       "      <td>4970</td>\n",
       "    </tr>\n",
       "    <tr>\n",
       "      <th>RETIREES</th>\n",
       "      <td>4305</td>\n",
       "      <td>5958</td>\n",
       "      <td>3572</td>\n",
       "    </tr>\n",
       "    <tr>\n",
       "      <th>YOUNG FAMILIES</th>\n",
       "      <td>5406</td>\n",
       "      <td>3696</td>\n",
       "      <td>3318</td>\n",
       "    </tr>\n",
       "    <tr>\n",
       "      <th>YOUNG SINGLES/COUPLES</th>\n",
       "      <td>2708</td>\n",
       "      <td>5643</td>\n",
       "      <td>1850</td>\n",
       "    </tr>\n",
       "  </tbody>\n",
       "</table>\n",
       "</div>"
      ],
      "text/plain": [
       "PREMIUM_CUSTOMER        Budget  Mainstream  Premium\n",
       "LIFESTAGE                                          \n",
       "MIDAGE SINGLES/COUPLES    1473        3333     2298\n",
       "NEW FAMILIES               840         635      449\n",
       "OLDER FAMILIES            6539        4112     3131\n",
       "OLDER SINGLES/COUPLES     5172        5162     4970\n",
       "RETIREES                  4305        5958     3572\n",
       "YOUNG FAMILIES            5406        3696     3318\n",
       "YOUNG SINGLES/COUPLES     2708        5643     1850"
      ]
     },
     "execution_count": 33,
     "metadata": {},
     "output_type": "execute_result"
    }
   ],
   "source": [
    "#No of customers by LIFESTAGE and PREMIUM_CUSTOMER\n",
    "No_of_customer_Group= filtered_Store_Data.groupby(['LIFESTAGE', 'PREMIUM_CUSTOMER'])['LYLTY_CARD_NBR'].count().reset_index()\n",
    "pivot_Customers = No_of_customer_Group.pivot(index='LIFESTAGE', columns='PREMIUM_CUSTOMER', values='LYLTY_CARD_NBR')\n",
    "pivot_Customers "
   ]
  },
  {
   "cell_type": "code",
   "execution_count": 34,
   "id": "f15c360a",
   "metadata": {
    "ExecuteTime": {
     "end_time": "2024-03-16T13:13:33.721721Z",
     "start_time": "2024-03-16T13:13:33.416682Z"
    }
   },
   "outputs": [
    {
     "data": {
      "image/png": "[encoded data removed]",
      "text/plain": [
       "<Figure size 864x432 with 1 Axes>"
      ]
     },
     "metadata": {
      "needs_background": "light"
     },
     "output_type": "display_data"
    }
   ],
   "source": [
    "pivot_Customers.plot(kind='bar', figsize=(12, 6))\n",
    "plt.title('No of customers by LIFESTAGE and PREMIUM_CUSTOMER')\n",
    "plt.xlabel('LIFESTAGE')\n",
    "plt.ylabel('No of customers')\n",
    "plt.xticks(rotation=45)\n",
    "plt.legend(title='PREMIUM_CUSTOMER')\n",
    "plt.tight_layout()\n",
    "plt.show()"
   ]
  },
  {
   "cell_type": "code",
   "execution_count": 35,
   "id": "06bc9768",
   "metadata": {
    "ExecuteTime": {
     "end_time": "2024-03-16T13:13:33.791631Z",
     "start_time": "2024-03-16T13:13:33.724632Z"
    }
   },
   "outputs": [
    {
     "name": "stdout",
     "output_type": "stream",
     "text": [
      "                 LIFESTAGE PREMIUM_CUSTOMER  PROD_QTY  LYLTY_CARD_NBR  \\\n",
      "0   MIDAGE SINGLES/COUPLES           Budget      2794             894   \n",
      "1   MIDAGE SINGLES/COUPLES       Mainstream      6383            1996   \n",
      "2   MIDAGE SINGLES/COUPLES          Premium      4338            1399   \n",
      "3             NEW FAMILIES           Budget      1550             581   \n",
      "4             NEW FAMILIES       Mainstream      1171             444   \n",
      "5             NEW FAMILIES          Premium       836             316   \n",
      "6           OLDER FAMILIES           Budget     12703            3177   \n",
      "7           OLDER FAMILIES       Mainstream      8015            1964   \n",
      "8           OLDER FAMILIES          Premium      6105            1532   \n",
      "9    OLDER SINGLES/COUPLES           Budget      9867            3114   \n",
      "10   OLDER SINGLES/COUPLES       Mainstream      9868            3062   \n",
      "11   OLDER SINGLES/COUPLES          Premium      9517            2979   \n",
      "12                RETIREES           Budget      8153            2722   \n",
      "13                RETIREES       Mainstream     11212            3798   \n",
      "14                RETIREES          Premium      6755            2287   \n",
      "15          YOUNG FAMILIES           Budget     10462            2687   \n",
      "16          YOUNG FAMILIES       Mainstream      7179            1864   \n",
      "17          YOUNG FAMILIES          Premium      6424            1639   \n",
      "18   YOUNG SINGLES/COUPLES           Budget      4857            1919   \n",
      "19   YOUNG SINGLES/COUPLES       Mainstream     10459            3952   \n",
      "20   YOUNG SINGLES/COUPLES          Premium      3353            1299   \n",
      "\n",
      "    Avg_units_per_customer  \n",
      "0                 3.125280  \n",
      "1                 3.197896  \n",
      "2                 3.100786  \n",
      "3                 2.667814  \n",
      "4                 2.637387  \n",
      "5                 2.645570  \n",
      "6                 3.998426  \n",
      "7                 4.080957  \n",
      "8                 3.984987  \n",
      "9                 3.168593  \n",
      "10                3.222730  \n",
      "11                3.194696  \n",
      "12                2.995224  \n",
      "13                2.952080  \n",
      "14                2.953651  \n",
      "15                3.893562  \n",
      "16                3.851395  \n",
      "17                3.919463  \n",
      "18                2.531006  \n",
      "19                2.646508  \n",
      "20                2.581216  \n"
     ]
    }
   ],
   "source": [
    "# Group data by 'LIFESTAGE' and 'PREMIUM_CUSTOMER', and calculate total units and number of customers\n",
    "units_and_customers = filtered_Store_Data.groupby(['LIFESTAGE', 'PREMIUM_CUSTOMER']).agg({'PROD_QTY': 'sum', 'LYLTY_CARD_NBR': 'nunique'}).reset_index()\n",
    "\n",
    "# Calculate average units per customer\n",
    "units_and_customers['Avg_units_per_customer'] = units_and_customers['PROD_QTY'] / units_and_customers['LYLTY_CARD_NBR']\n",
    "\n",
    "# Display the result\n",
    "print(units_and_customers)"
   ]
  },
  {
   "cell_type": "code",
   "execution_count": 36,
   "id": "bb0d24ff",
   "metadata": {
    "ExecuteTime": {
     "end_time": "2024-03-16T13:13:34.099868Z",
     "start_time": "2024-03-16T13:13:33.796633Z"
    }
   },
   "outputs": [
    {
     "data": {
      "image/png": "[encoded data removed]",
      "text/plain": [
       "<Figure size 864x432 with 1 Axes>"
      ]
     },
     "metadata": {
      "needs_background": "light"
     },
     "output_type": "display_data"
    }
   ],
   "source": [
    "plt.figure(figsize=(12, 6))\n",
    "\n",
    "# Create a  barplot\n",
    "sns.barplot(data=units_and_customers, x='LIFESTAGE', y='Avg_units_per_customer', hue='PREMIUM_CUSTOMER')\n",
    "plt.title('Average Units per Customer by LIFESTAGE and PREMIUM_CUSTOMER')\n",
    "plt.xlabel('LIFESTAGE')\n",
    "plt.ylabel('Average Units per Customer')\n",
    "plt.xticks(rotation=45)\n",
    "plt.legend(title='PREMIUM_CUSTOMER')\n",
    "plt.tight_layout()\n",
    "plt.show()"
   ]
  },
  {
   "cell_type": "code",
   "execution_count": 37,
   "id": "4681297c",
   "metadata": {
    "ExecuteTime": {
     "end_time": "2024-03-16T13:13:34.147584Z",
     "start_time": "2024-03-16T13:13:34.103809Z"
    }
   },
   "outputs": [
    {
     "name": "stderr",
     "output_type": "stream",
     "text": [
      "C:\\Users\\jswat\\AppData\\Local\\Temp\\ipykernel_8560\\1647085337.py:2: SettingWithCopyWarning: \n",
      "A value is trying to be set on a copy of a slice from a DataFrame.\n",
      "Try using .loc[row_indexer,col_indexer] = value instead\n",
      "\n",
      "See the caveats in the documentation: https://pandas.pydata.org/pandas-docs/stable/user_guide/indexing.html#returning-a-view-versus-a-copy\n",
      "  filtered_Store_Data['PRICE_PER_UNIT'] = filtered_Store_Data['TOT_SALES'] / filtered_Store_Data['PROD_QTY']\n"
     ]
    }
   ],
   "source": [
    "# Calculate the total sales for each transaction\n",
    "filtered_Store_Data['PRICE_PER_UNIT'] = filtered_Store_Data['TOT_SALES'] / filtered_Store_Data['PROD_QTY']"
   ]
  },
  {
   "cell_type": "code",
   "execution_count": 38,
   "id": "c8096d79",
   "metadata": {
    "ExecuteTime": {
     "end_time": "2024-03-16T13:13:34.210424Z",
     "start_time": "2024-03-16T13:13:34.151644Z"
    }
   },
   "outputs": [
    {
     "data": {
      "text/html": [
       "<div>\n",
       "<style scoped>\n",
       "    .dataframe tbody tr th:only-of-type {\n",
       "        vertical-align: middle;\n",
       "    }\n",
       "\n",
       "    .dataframe tbody tr th {\n",
       "        vertical-align: top;\n",
       "    }\n",
       "\n",
       "    .dataframe thead th {\n",
       "        text-align: right;\n",
       "    }\n",
       "</style>\n",
       "<table border=\"1\" class=\"dataframe\">\n",
       "  <thead>\n",
       "    <tr style=\"text-align: right;\">\n",
       "      <th></th>\n",
       "      <th>LIFESTAGE</th>\n",
       "      <th>PREMIUM_CUSTOMER</th>\n",
       "      <th>PRICE_PER_UNIT</th>\n",
       "    </tr>\n",
       "  </thead>\n",
       "  <tbody>\n",
       "    <tr>\n",
       "      <th>0</th>\n",
       "      <td>MIDAGE SINGLES/COUPLES</td>\n",
       "      <td>Budget</td>\n",
       "      <td>3.513476</td>\n",
       "    </tr>\n",
       "    <tr>\n",
       "      <th>1</th>\n",
       "      <td>MIDAGE SINGLES/COUPLES</td>\n",
       "      <td>Mainstream</td>\n",
       "      <td>3.751905</td>\n",
       "    </tr>\n",
       "    <tr>\n",
       "      <th>2</th>\n",
       "      <td>MIDAGE SINGLES/COUPLES</td>\n",
       "      <td>Premium</td>\n",
       "      <td>3.530722</td>\n",
       "    </tr>\n",
       "    <tr>\n",
       "      <th>3</th>\n",
       "      <td>NEW FAMILIES</td>\n",
       "      <td>Budget</td>\n",
       "      <td>3.650000</td>\n",
       "    </tr>\n",
       "    <tr>\n",
       "      <th>4</th>\n",
       "      <td>NEW FAMILIES</td>\n",
       "      <td>Mainstream</td>\n",
       "      <td>3.658583</td>\n",
       "    </tr>\n",
       "    <tr>\n",
       "      <th>5</th>\n",
       "      <td>NEW FAMILIES</td>\n",
       "      <td>Premium</td>\n",
       "      <td>3.672829</td>\n",
       "    </tr>\n",
       "    <tr>\n",
       "      <th>6</th>\n",
       "      <td>OLDER FAMILIES</td>\n",
       "      <td>Budget</td>\n",
       "      <td>3.531259</td>\n",
       "    </tr>\n",
       "    <tr>\n",
       "      <th>7</th>\n",
       "      <td>OLDER FAMILIES</td>\n",
       "      <td>Mainstream</td>\n",
       "      <td>3.529815</td>\n",
       "    </tr>\n",
       "    <tr>\n",
       "      <th>8</th>\n",
       "      <td>OLDER FAMILIES</td>\n",
       "      <td>Premium</td>\n",
       "      <td>3.479080</td>\n",
       "    </tr>\n",
       "    <tr>\n",
       "      <th>9</th>\n",
       "      <td>OLDER SINGLES/COUPLES</td>\n",
       "      <td>Budget</td>\n",
       "      <td>3.636717</td>\n",
       "    </tr>\n",
       "    <tr>\n",
       "      <th>10</th>\n",
       "      <td>OLDER SINGLES/COUPLES</td>\n",
       "      <td>Mainstream</td>\n",
       "      <td>3.588648</td>\n",
       "    </tr>\n",
       "    <tr>\n",
       "      <th>11</th>\n",
       "      <td>OLDER SINGLES/COUPLES</td>\n",
       "      <td>Premium</td>\n",
       "      <td>3.625573</td>\n",
       "    </tr>\n",
       "    <tr>\n",
       "      <th>12</th>\n",
       "      <td>RETIREES</td>\n",
       "      <td>Budget</td>\n",
       "      <td>3.676620</td>\n",
       "    </tr>\n",
       "    <tr>\n",
       "      <th>13</th>\n",
       "      <td>RETIREES</td>\n",
       "      <td>Mainstream</td>\n",
       "      <td>3.609584</td>\n",
       "    </tr>\n",
       "    <tr>\n",
       "      <th>14</th>\n",
       "      <td>RETIREES</td>\n",
       "      <td>Premium</td>\n",
       "      <td>3.669289</td>\n",
       "    </tr>\n",
       "    <tr>\n",
       "      <th>15</th>\n",
       "      <td>YOUNG FAMILIES</td>\n",
       "      <td>Budget</td>\n",
       "      <td>3.540366</td>\n",
       "    </tr>\n",
       "    <tr>\n",
       "      <th>16</th>\n",
       "      <td>YOUNG FAMILIES</td>\n",
       "      <td>Mainstream</td>\n",
       "      <td>3.532386</td>\n",
       "    </tr>\n",
       "    <tr>\n",
       "      <th>17</th>\n",
       "      <td>YOUNG FAMILIES</td>\n",
       "      <td>Premium</td>\n",
       "      <td>3.548855</td>\n",
       "    </tr>\n",
       "    <tr>\n",
       "      <th>18</th>\n",
       "      <td>YOUNG SINGLES/COUPLES</td>\n",
       "      <td>Budget</td>\n",
       "      <td>3.434786</td>\n",
       "    </tr>\n",
       "    <tr>\n",
       "      <th>19</th>\n",
       "      <td>YOUNG SINGLES/COUPLES</td>\n",
       "      <td>Mainstream</td>\n",
       "      <td>3.824331</td>\n",
       "    </tr>\n",
       "    <tr>\n",
       "      <th>20</th>\n",
       "      <td>YOUNG SINGLES/COUPLES</td>\n",
       "      <td>Premium</td>\n",
       "      <td>3.443676</td>\n",
       "    </tr>\n",
       "  </tbody>\n",
       "</table>\n",
       "</div>"
      ],
      "text/plain": [
       "                 LIFESTAGE PREMIUM_CUSTOMER  PRICE_PER_UNIT\n",
       "0   MIDAGE SINGLES/COUPLES           Budget        3.513476\n",
       "1   MIDAGE SINGLES/COUPLES       Mainstream        3.751905\n",
       "2   MIDAGE SINGLES/COUPLES          Premium        3.530722\n",
       "3             NEW FAMILIES           Budget        3.650000\n",
       "4             NEW FAMILIES       Mainstream        3.658583\n",
       "5             NEW FAMILIES          Premium        3.672829\n",
       "6           OLDER FAMILIES           Budget        3.531259\n",
       "7           OLDER FAMILIES       Mainstream        3.529815\n",
       "8           OLDER FAMILIES          Premium        3.479080\n",
       "9    OLDER SINGLES/COUPLES           Budget        3.636717\n",
       "10   OLDER SINGLES/COUPLES       Mainstream        3.588648\n",
       "11   OLDER SINGLES/COUPLES          Premium        3.625573\n",
       "12                RETIREES           Budget        3.676620\n",
       "13                RETIREES       Mainstream        3.609584\n",
       "14                RETIREES          Premium        3.669289\n",
       "15          YOUNG FAMILIES           Budget        3.540366\n",
       "16          YOUNG FAMILIES       Mainstream        3.532386\n",
       "17          YOUNG FAMILIES          Premium        3.548855\n",
       "18   YOUNG SINGLES/COUPLES           Budget        3.434786\n",
       "19   YOUNG SINGLES/COUPLES       Mainstream        3.824331\n",
       "20   YOUNG SINGLES/COUPLES          Premium        3.443676"
      ]
     },
     "execution_count": 38,
     "metadata": {},
     "output_type": "execute_result"
    }
   ],
   "source": [
    "avg_price_per_unit = filtered_Store_Data.groupby(['LIFESTAGE', 'PREMIUM_CUSTOMER'])['PRICE_PER_UNIT'].mean().reset_index()\n",
    "avg_price_per_unit"
   ]
  },
  {
   "cell_type": "code",
   "execution_count": 39,
   "id": "c5d42f4f",
   "metadata": {
    "ExecuteTime": {
     "end_time": "2024-03-16T13:13:34.554437Z",
     "start_time": "2024-03-16T13:13:34.214335Z"
    }
   },
   "outputs": [
    {
     "data": {
      "image/png": "[encoded data removed]",
      "text/plain": [
       "<Figure size 864x432 with 1 Axes>"
      ]
     },
     "metadata": {
      "needs_background": "light"
     },
     "output_type": "display_data"
    }
   ],
   "source": [
    "\n",
    "plt.figure(figsize=(12, 6))\n",
    "sns.barplot(data=avg_price_per_unit, x='LIFESTAGE', y='PRICE_PER_UNIT', hue='PREMIUM_CUSTOMER')\n",
    "plt.title('Average Price per Unit by LIFESTAGE and PREMIUM_CUSTOMER')\n",
    "plt.xlabel('LIFESTAGE')\n",
    "plt.ylabel('Average Price per Unit')\n",
    "plt.xticks(rotation=45)\n",
    "plt.legend(title='PREMIUM_CUSTOMER')\n",
    "plt.tight_layout()\n",
    "plt.show()"
   ]
  },
  {
   "cell_type": "markdown",
   "id": "9805db32",
   "metadata": {},
   "source": [
    "Mainstream midage and young singles and couples are more willing to pay more per\n",
    "packet of chips compared to their budget and premium counterparts. This may be due\n",
    "to premium shoppers being more likely to buy healthy snacks and when they buy\n",
    "chips, this is mainly for entertainment purposes rather than their own consumption.\n",
    "This is also supported by there being fewer premium midage and young singles and\n",
    "couples buying chips compared to their mainstream counterparts.\n"
   ]
  },
  {
   "cell_type": "code",
   "execution_count": 41,
   "id": "1fb711a0",
   "metadata": {
    "ExecuteTime": {
     "end_time": "2024-03-16T13:16:00.059475Z",
     "start_time": "2024-03-16T13:16:00.041563Z"
    }
   },
   "outputs": [],
   "source": [
    "from scipy import stats"
   ]
  },
  {
   "cell_type": "code",
   "execution_count": 43,
   "id": "b853d9dd",
   "metadata": {
    "ExecuteTime": {
     "end_time": "2024-03-16T13:16:06.008487Z",
     "start_time": "2024-03-16T13:16:05.952489Z"
    }
   },
   "outputs": [
    {
     "name": "stdout",
     "output_type": "stream",
     "text": [
      "T-statistic: 21.91914870170594\n",
      "P-value: 4.686930308787244e-105\n"
     ]
    }
   ],
   "source": [
    "# T Test for  between mainstream vs premium and budget midage and young singles and couples\n",
    "mainstream_Young_unit_price = filtered_Store_Data[(filtered_Store_Data['PREMIUM_CUSTOMER'] == 'Mainstream') & (filtered_Store_Data['LIFESTAGE'].isin(['YOUNG SINGLES/COUPLES', 'MIDAGE SINGLES/COUPLES']))]['PRICE_PER_UNIT']\n",
    "premium_budget_midage_unit_price = filtered_Store_Data[(filtered_Store_Data['PREMIUM_CUSTOMER'].isin(['Premium', 'Budget'])) & (filtered_Store_Data['LIFESTAGE'].isin(['YOUNG SINGLES/COUPLES', 'MIDAGE SINGLES/COUPLES']))]['PRICE_PER_UNIT']\n",
    "\n",
    "t_stat, p_value = stats.ttest_ind(mainstream_Young_unit_price, premium_budget_midage_unit_price, equal_var=False)\n",
    "\n",
    "print(\"T-statistic:\", t_stat)\n",
    "print(\"P-value:\", p_value)"
   ]
  },
  {
   "cell_type": "markdown",
   "id": "38ff3e5e",
   "metadata": {},
   "source": [
    "There is a significant difference in the average price per unit between the 'Mainstream' Young Singles/Couples and 'Premium/Budget' Young and Midage Singles/Couples groups\n"
   ]
  },
  {
   "cell_type": "code",
   "execution_count": 44,
   "id": "9b40ea34",
   "metadata": {
    "ExecuteTime": {
     "end_time": "2024-03-16T13:16:06.040484Z",
     "start_time": "2024-03-16T13:16:06.013485Z"
    }
   },
   "outputs": [],
   "source": [
    "# Filter data for 'Mainstream' Young Singles/Couples\n",
    "mainstream_young = filtered_Store_Data[(filtered_Store_Data['PREMIUM_CUSTOMER'] == 'Mainstream') & (filtered_Store_Data['LIFESTAGE'] == 'YOUNG SINGLES/COUPLES')]"
   ]
  },
  {
   "cell_type": "code",
   "execution_count": 45,
   "id": "fde9c6e6",
   "metadata": {
    "ExecuteTime": {
     "end_time": "2024-03-16T13:16:06.243749Z",
     "start_time": "2024-03-16T13:16:06.046485Z"
    }
   },
   "outputs": [
    {
     "data": {
      "image/png": "[encoded data removed]",
      "text/plain": [
       "<Figure size 720x432 with 1 Axes>"
      ]
     },
     "metadata": {
      "needs_background": "light"
     },
     "output_type": "display_data"
    }
   ],
   "source": [
    "#Top Chip Brands Purchased by Mainstream Young Singles/Couples\n",
    "\n",
    "brand_counts = mainstream_young['brand_name'].value_counts()\n",
    "\n",
    "plt.figure(figsize=(10, 6))\n",
    "sns.barplot(x=brand_counts.index, y=brand_counts.values)\n",
    "plt.title('Top Chip Brands Purchased by Mainstream Young Singles/Couples')\n",
    "plt.xlabel('Brand')\n",
    "plt.ylabel('Number of Purchases')\n",
    "plt.xticks(rotation=45)\n",
    "plt.tight_layout()\n",
    "plt.show()"
   ]
  },
  {
   "cell_type": "markdown",
   "id": "0590f824",
   "metadata": {},
   "source": [
    "Doritos' popularity is likely due to its strong brand recognition, diverse flavor options, effective marketing, appealing packaging, tasty products, and widespread availability."
   ]
  },
  {
   "cell_type": "code",
   "execution_count": 46,
   "id": "1c102280",
   "metadata": {
    "ExecuteTime": {
     "end_time": "2024-03-16T13:16:06.488662Z",
     "start_time": "2024-03-16T13:16:06.248709Z"
    },
    "scrolled": true
   },
   "outputs": [
    {
     "data": {
      "image/png": "[encoded data removed]",
      "text/plain": [
       "<Figure size 720x432 with 1 Axes>"
      ]
     },
     "metadata": {
      "needs_background": "light"
     },
     "output_type": "display_data"
    }
   ],
   "source": [
    "#Top Chip Pack size Purchased by Mainstream Young Singles/Couples\n",
    "\n",
    "Pack_counts = mainstream_young['PACK_SIZE'].value_counts()\n",
    "\n",
    "plt.figure(figsize=(10, 6))\n",
    "sns.barplot(x=Pack_counts.index, y=Pack_counts.values)\n",
    "plt.title('Top Chip Pack size Purchased by Mainstream Young Singles/Couples')\n",
    "plt.xlabel('Pack Size')\n",
    "plt.ylabel('Number of Purchases')\n",
    "plt.xticks(rotation=45)\n",
    "plt.tight_layout()\n",
    "plt.show()"
   ]
  },
  {
   "cell_type": "markdown",
   "id": "2b9bc717",
   "metadata": {},
   "source": [
    "Customers may prefer the 175g pack size due to its perceived value for money, convenience, and familiarity.\n"
   ]
  },
  {
   "cell_type": "code",
   "execution_count": 47,
   "id": "e1bedff5",
   "metadata": {
    "ExecuteTime": {
     "end_time": "2024-03-16T13:16:06.505660Z",
     "start_time": "2024-03-16T13:16:06.492660Z"
    }
   },
   "outputs": [
    {
     "name": "stdout",
     "output_type": "stream",
     "text": [
      "Total Sales Revenue: 511588.2999999999\n"
     ]
    }
   ],
   "source": [
    "# Calculate the total sales revenue\n",
    "total_sales_revenue = filtered_Store_Data['TOT_SALES'].sum()\n",
    "print(\"Total Sales Revenue:\", total_sales_revenue)"
   ]
  },
  {
   "cell_type": "code",
   "execution_count": 48,
   "id": "47122672",
   "metadata": {
    "ExecuteTime": {
     "end_time": "2024-03-16T13:16:48.397531Z",
     "start_time": "2024-03-16T13:16:48.378626Z"
    }
   },
   "outputs": [
    {
     "name": "stdout",
     "output_type": "stream",
     "text": [
      "Total Number of Customers: 43625\n"
     ]
    }
   ],
   "source": [
    "# Calculate the total number of customers\n",
    "total_customers = filtered_Store_Data['LYLTY_CARD_NBR'].nunique()\n",
    "print(\"Total Number of Customers:\", total_customers)"
   ]
  },
  {
   "cell_type": "code",
   "execution_count": 49,
   "id": "f54687c7",
   "metadata": {
    "ExecuteTime": {
     "end_time": "2024-03-16T13:16:50.676706Z",
     "start_time": "2024-03-16T13:16:50.647615Z"
    }
   },
   "outputs": [
    {
     "name": "stdout",
     "output_type": "stream",
     "text": [
      "Average Transactions per Customer: 1.7093409742120345\n"
     ]
    }
   ],
   "source": [
    "# Calculate the average number of transactions per customer\n",
    "total_transactions = filtered_Store_Data['TXN_ID'].count()\n",
    "total_customers = filtered_Store_Data['LYLTY_CARD_NBR'].nunique()\n",
    "average_transactions_per_customer = total_transactions / total_customers\n",
    "print(\"Average Transactions per Customer:\", average_transactions_per_customer)"
   ]
  },
  {
   "cell_type": "code",
   "execution_count": 50,
   "id": "4fa6d583",
   "metadata": {
    "ExecuteTime": {
     "end_time": "2024-03-16T13:17:37.456774Z",
     "start_time": "2024-03-16T13:17:37.431781Z"
    }
   },
   "outputs": [
    {
     "name": "stdout",
     "output_type": "stream",
     "text": [
      "     STORE_NBR  TOT_SALES\n",
      "0            1      729.0\n",
      "1            2      580.0\n",
      "2            3     3062.1\n",
      "3            4     4003.5\n",
      "4            5     2501.2\n",
      "..         ...        ...\n",
      "260        268      790.9\n",
      "261        269     3101.6\n",
      "262        270     3020.2\n",
      "263        271     2805.1\n",
      "264        272     1185.9\n",
      "\n",
      "[265 rows x 2 columns]\n"
     ]
    }
   ],
   "source": [
    "# Display the total sales revenue for each store\n",
    "total_sales_revenue = filtered_Store_Data.groupby('STORE_NBR')['TOT_SALES'].sum().reset_index()\n",
    "total_sales_revenue.columns = ['STORE_NBR', 'TOT_SALES']\n",
    "print(total_sales_revenue)"
   ]
  }
 ],
 "metadata": {
  "kernelspec": {
   "display_name": "Python 3 (ipykernel)",
   "language": "python",
   "name": "python3"
  },
  "language_info": {
   "codemirror_mode": {
    "name": "ipython",
    "version": 3
   },
   "file_extension": ".py",
   "mimetype": "text/x-python",
   "name": "python",
   "nbconvert_exporter": "python",
   "pygments_lexer": "ipython3",
   "version": "3.9.12"
  }
 },
 "nbformat": 4,
 "nbformat_minor": 5
}
